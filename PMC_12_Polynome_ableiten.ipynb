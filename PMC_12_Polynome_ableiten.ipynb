{
 "cells": [
  {
   "cell_type": "markdown",
   "metadata": {},
   "source": [
    "# $$\\textbf{Python Mini Challenge} $$ \n",
    "## $$\\text{PMC_12 - Polynome ableiten}$$\n",
    "### $$\\text{Py_Ing - SoSe21}$$\n",
    "\n",
    "<center>"
   ]
  },
  {
   "cell_type": "markdown",
   "metadata": {},
   "source": [
    "# Aufgabe:  \n",
    "**Schreiben Sie eine Funktion, die ein als String übegebenes Polynom der Form \"a_1*x^b_1 + a_2*x^b_2 + a_3*x^b_3 ...\" mit a_n, b_n ∈ ℤ mittels List Comprehensions korrekt ableitet.**\n",
    "\n",
    "Beispiel:  \n",
    "\n",
    "\"3\\*x^4 - 4\\*x^1 + 2\\*x^0 +7\\*x^-2\" --> \"12\\*x^3 - 4\\*x^0 - 14\\*x^-1\"  \n",
    "\n",
    "\n",
    "\n",
    "**Bonusaufgabe:**  \n",
    "\n",
    "**Die Funktion soll auch Eingaben ohne Exponenten und mit a_n, b_n ∈ ℚ verarbeiten können.**  \n",
    "\n",
    "Beispiel:  \n",
    "\n",
    "\"5\\*x^2/3 + 4/3\\*x + 2\" --> \"10/3\\*x^-1/3 - 4/3\""
   ]
  },
  {
   "cell_type": "code",
   "execution_count": 1,
   "metadata": {},
   "outputs": [],
   "source": [
    "import numpy as np"
   ]
  },
  {
   "cell_type": "markdown",
   "metadata": {},
   "source": [
    "**Funktion für Ableitung des Polynoms**\n",
    "- Args:  \n",
    "    K, (np.array): Koeff. vom Polynom  \n",
    "    P, (np.array): Potenzen vom Polynom  \n",
    "- Returns:  \n",
    "    K_: Koef. vom abgeleiteten Polynom  \n",
    "    P_: Potenzen vom abgeleiteten Polynom\n"
   ]
  },
  {
   "cell_type": "code",
   "execution_count": 2,
   "metadata": {},
   "outputs": [],
   "source": [
    "def polynomAblKP(K,P):\n",
    "    \"\"\"\n",
    "    Args:\n",
    "        K, (np.array): Koeff. vom Polynom\n",
    "        P, (np.array): Potenzen vom Polynom\n",
    "    Returns:\n",
    "        K_: Koef. vom abgeleiteten Polynom\n",
    "        P_: Potenzen vom abgeleiteten Polynom\n",
    "    \"\"\"\n",
    "    mask = P != 0 # mask fuer Konstanten, z.B. (5x^0)' = (5)' = 0\n",
    "    P_ = P-1\n",
    "    K_ = np.array([k*p for k,p in zip(K,P)])\n",
    "    return K_[mask],P_[mask]"
   ]
  },
  {
   "cell_type": "code",
   "execution_count": 3,
   "metadata": {},
   "outputs": [
    {
     "data": {
      "text/plain": [
       "(array([ 12,  -4, -14]), array([ 3,  0, -3]))"
      ]
     },
     "execution_count": 3,
     "metadata": {},
     "output_type": "execute_result"
    }
   ],
   "source": [
    "# Test\n",
    "K = np.array([3,-4,2,7])\n",
    "P = np.array([4,1,0,-2])\n",
    "K_,P_ = polynomAblKP(K,P)\n",
    "K_,P_"
   ]
  },
  {
   "cell_type": "markdown",
   "metadata": {},
   "source": [
    "**Funktion für Ableitung des Polynoms und die Hilfsfuntionen**\n",
    "- Args:  \n",
    "    T: Polynom als string  \n",
    "- Retruns:  \n",
    "    T_: abgeleitetes Polynom als string  "
   ]
  },
  {
   "cell_type": "code",
   "execution_count": 4,
   "metadata": {},
   "outputs": [],
   "source": [
    "def vorzeichen(z,n):\n",
    "    \"\"\"\n",
    "    ganze zahl\n",
    "    z,n --> z,n\n",
    "    +,+ --> +,+\n",
    "    -,- --> +,+\n",
    "    +,- --> -,+\n",
    "    -,+ --> -,+\n",
    "    \"\"\"\n",
    "    if z*n >= 0:    # --, ++ --> ++\n",
    "        z = abs(z)\n",
    "        n = abs(n)\n",
    "    else:          # -+, +- --> -+\n",
    "        z = -abs(z)\n",
    "        n = abs(n)\n",
    "    return z,n"
   ]
  },
  {
   "cell_type": "code",
   "execution_count": 5,
   "metadata": {},
   "outputs": [],
   "source": [
    "def tZahl2NennerZaehler(T):\n",
    "    \"\"\"\n",
    "    Args:\n",
    "        T: Zahl als string z.B. 0, 1, 2, 3, 3/4, 5/7\n",
    "    Returns:\n",
    "        z: Zaehler als ganze Zahl\n",
    "        n: Nenner als ganze Zahl\n",
    "    \"\"\"\n",
    "    L = np.array([t for t in T]) # string to list\n",
    "    indexDiv = np.where(L==\"/\")  # Pos. von \"/\": \"-5/3\" --> (array([2], dtype=int64),) --> Index = indexDiv[0][0] = 2\n",
    "\n",
    "    # Teilen in Zaehler und in Nenner\n",
    "    if len(indexDiv[0]) == 0: # kein \"/\" --> ganze Zahl\n",
    "        z = int(T)\n",
    "        n = 1\n",
    "    else:                     # mit \"/\"  --> rationale Zahl\n",
    "        z = int(T[:indexDiv[0][0]])\n",
    "        n = int(T[indexDiv[0][0]+1:])\n",
    "\n",
    "    # Vorzeichen\n",
    "    z,n = vorzeichen(z,n)\n",
    "\n",
    "    return z,n"
   ]
  },
  {
   "cell_type": "code",
   "execution_count": 6,
   "metadata": {},
   "outputs": [
    {
     "name": "stdout",
     "output_type": "stream",
     "text": [
      "(0, 1)\n",
      "(1, 1)\n",
      "(-1, 1)\n",
      "(2, 1)\n",
      "(3, 4)\n",
      "(4, 3)\n",
      "(-5, 3)\n",
      "(-5, 3)\n"
     ]
    }
   ],
   "source": [
    "# Test\n",
    "T = [\"0\",\"1\",\"-1\",\"2\",\"3/4\",\"4/3\",\"-5/3\",\"5/-3\"]\n",
    "for t in T:\n",
    "    print(tZahl2NennerZaehler(t))"
   ]
  },
  {
   "cell_type": "code",
   "execution_count": 7,
   "metadata": {},
   "outputs": [],
   "source": [
    "def tZahlMinus1(T):\n",
    "    \"\"\"\n",
    "    Args:\n",
    "        T: Zahl als string z.B. 0, 1, 2, 3, 3/4, 5/7\n",
    "    Returns:\n",
    "        T_: Zahl-1 als string\n",
    "            0   --> -1\n",
    "            1   -->  0 \n",
    "            3/4 --> -1/4\n",
    "    \"\"\"\n",
    "    z,n = tZahl2NennerZaehler(T)\n",
    "    if n == 1:             # ganze Zahl\n",
    "        T_ = str(int(z)-1)\n",
    "    else:                  # rationale Zahl\n",
    "        T_ = str(z-n)+\"/\"+str(n)\n",
    "    return T_"
   ]
  },
  {
   "cell_type": "code",
   "execution_count": 8,
   "metadata": {},
   "outputs": [
    {
     "name": "stdout",
     "output_type": "stream",
     "text": [
      "-1\n",
      "0\n",
      "-2\n",
      "1\n",
      "-1/4\n",
      "1/3\n",
      "-8/3\n"
     ]
    }
   ],
   "source": [
    "# Test\n",
    "T = [\"0\",\"1\",\"-1\",\"2\",\"3/4\",\"4/3\",\"-5/3\"]\n",
    "for t in T:\n",
    "    print(tZahlMinus1(t))"
   ]
  },
  {
   "cell_type": "code",
   "execution_count": 9,
   "metadata": {},
   "outputs": [],
   "source": [
    "def bruchZahl(z,n):\n",
    "    \"\"\"\n",
    "    Bruchzahl vereinfachen\n",
    "    Args:\n",
    "        z: ganze zahl\n",
    "        n: ganze zahl\n",
    "    Returns:\n",
    "        zv: vereinfachter Zaehler, ganze zahl\n",
    "        nv: vereinfachter Nenner, ganze zahl\n",
    "    \"\"\"\n",
    "    if z == n:\n",
    "        return 1,1\n",
    "    if z == -n:\n",
    "        return -1,1\n",
    "    if z == 0:\n",
    "        return 0,1\n",
    "    if max(abs(z),abs(n))%min(abs(z),abs(n)) == 0:\n",
    "        m = min(abs(z),abs(n))\n",
    "        z = int(z/m)\n",
    "        n = int(n/m)\n",
    "    zv = z\n",
    "    nv = n\n",
    "    for i in range(1,2+int(min(abs(z),abs(n))**0.5)):\n",
    "        if zv%i == 0 and nv%i == 0:\n",
    "            zv = int(zv/i)\n",
    "            nv = int(nv/i)\n",
    "    zv,nv = vorzeichen(zv,nv)\n",
    "    return zv,nv"
   ]
  },
  {
   "cell_type": "code",
   "execution_count": 10,
   "metadata": {},
   "outputs": [
    {
     "name": "stdout",
     "output_type": "stream",
     "text": [
      "(1, 1)\n",
      "(0, 1)\n",
      "(-1, 1)\n",
      "(1, 5)\n",
      "(-1, 9)\n",
      "(-2, 7)\n",
      "(-1, 3)\n",
      "(3, 1)\n",
      "(-6, 1)\n",
      "(-8, 7)\n",
      "(-1, 100)\n",
      "(-64, 1)\n"
     ]
    }
   ],
   "source": [
    "# Test\n",
    "T = [[1,1],[0,1],[1,-1],[3,15],[4,-36],[6,-21],[-7,21],[18,6],[42,-7],[24,-21],[100,-10000],[1024,-16]]\n",
    "for t in T:\n",
    "    print(bruchZahl(*t))"
   ]
  },
  {
   "cell_type": "code",
   "execution_count": 11,
   "metadata": {},
   "outputs": [],
   "source": [
    "def tZahlMult(T1,T2):\n",
    "    \"\"\"\n",
    "    Args:\n",
    "        T1: Zahl als string z.B. 0, 1, 2, 3, 3/4, 5/7\n",
    "        T2: Zahl als string z.B. 0, 1, 2, 3, 3/4, 5/7\n",
    "    Returns:\n",
    "        T_: Zahl1*Zahl2 als string\n",
    "            3*5     --> 15 \n",
    "            3/4*5/3 --> 15/12 ohne Vereinfachung bis jetzt\n",
    "            0/5     --> 0\n",
    "            3/1     --> 1\n",
    "    \"\"\"\n",
    "    z1,n1 = tZahl2NennerZaehler(T1)\n",
    "    z2,n2 = tZahl2NennerZaehler(T2)\n",
    "    z = z1*z2\n",
    "    n = n1*n2\n",
    "    z,n = bruchZahl(z,n)\n",
    "    if n == 1:\n",
    "        T = str(z)\n",
    "    elif z == 0:\n",
    "        T = str(z)\n",
    "    else:\n",
    "        T = str(z)+\"/\"+str(n)\n",
    "    return T"
   ]
  },
  {
   "cell_type": "code",
   "execution_count": 12,
   "metadata": {},
   "outputs": [
    {
     "name": "stdout",
     "output_type": "stream",
     "text": [
      "0\n",
      "4/3\n",
      "5/3\n",
      "1\n",
      "-9/8\n",
      "4\n",
      "-1\n",
      "-5/3\n"
     ]
    }
   ],
   "source": [
    "# Test\n",
    "T1 = [\"0\",\"1\",\"-1\",\"2\",\"3/4\",\"4/3\",\"-5/3\",\"3/-6\"]\n",
    "T2 = [\"3/4\",\"4/3\",\"-5/3\",\"1/2\",\"3/-2\",\"3\",\"3/5\",\"10/3\"]\n",
    "for t1,t2 in zip(T1,T2):\n",
    "    print(tZahlMult(t1,t2))"
   ]
  },
  {
   "cell_type": "code",
   "execution_count": 13,
   "metadata": {},
   "outputs": [],
   "source": [
    "def tPolynom2KoeffPot(T):\n",
    "    \"\"\"\n",
    "    Args:\n",
    "        T: Polynom als string\n",
    "    Returns:\n",
    "        K: Koeffizienten\n",
    "        P: Potenzen\n",
    "    \"\"\"\n",
    "    T = np.array([t for t in T])\n",
    "    index = np.where(T==\"x\")\n",
    "    K = [] # Koeffizineten\n",
    "    P = [] # Potenzen\n",
    "    V = [] # Vorzeichen\n",
    "    # Koeffizienten\n",
    "    for i in index[0]:\n",
    "        if i == 0 or T[i-1] != \"*\":\n",
    "            K.append(\"1\")\n",
    "            continue\n",
    "        sk = 2\n",
    "        tk = \"\"\n",
    "        k = \"\"\n",
    "        while tk != \" \" and i-sk >= 0:\n",
    "            tk = T[i-sk]\n",
    "            k += tk\n",
    "            sk += 1\n",
    "        K.append(k[::-1])\n",
    "\n",
    "    # Potenzen\n",
    "    for i in index[0]:\n",
    "        if i+1 >= len(T) or T[i+1] != \"^\":\n",
    "            P.append(\"1\")\n",
    "            continue\n",
    "        sp = 2\n",
    "        tp = T[i+sp]\n",
    "        p = \"\"\n",
    "        while tp != \" \":\n",
    "            p += tp\n",
    "            sp += 1\n",
    "            if i+sp < len(T):\n",
    "                tp = T[i+sp]\n",
    "            else:\n",
    "                tp = \" \"\n",
    "        P.append(p)\n",
    "\n",
    "    # Vorzeichen\n",
    "    for i in index[0]:\n",
    "        if i == 0:\n",
    "            V.append(\"+\")\n",
    "            continue\n",
    "        if T[i-1] == \"-\":\n",
    "            V.append(\"-\")\n",
    "            continue\n",
    "        v = \"+\"\n",
    "        for n in range(i,0,-1):\n",
    "            if T[n] == \" \" and n > 0:\n",
    "                v = T[n-1]\n",
    "                break\n",
    "        V.append(v)\n",
    "\n",
    "    return K,P,V"
   ]
  },
  {
   "cell_type": "code",
   "execution_count": 14,
   "metadata": {
    "scrolled": true
   },
   "outputs": [
    {
     "name": "stdout",
     "output_type": "stream",
     "text": [
      "(['3', ' 4', ' 2', ' 7'], ['4', '1', '0', '-2'], ['+', '-', '+', '+'])\n",
      "(['2', ' 6/-7', ' 5', ' 4/3', '1', '1'], ['1', '1', '2/3', '1', '1', '3/-2'], ['+', '-', '+', '+', '+', '+'])\n",
      "(['1', ' 6/-7', ' 5', ' 4/3', '1'], ['1', '1', '2/3', '1', '1'], ['+', '-', '+', '+', '+'])\n",
      "(['1', ' 6/-7', ' 5', ' 4/3', '1'], ['1', '1', '2/3', '1', '1'], ['-', '-', '+', '+', '+'])\n",
      "([' 6/-7', ' 5', ' 4/3'], ['1', '2/3', '1'], ['-', '+', '+'])\n",
      "(['0'], ['1'], ['+'])\n",
      "([], [], [])\n",
      "(['1'], ['1'], ['+'])\n",
      "(['0'], ['1'], ['+'])\n",
      "(['1'], ['0'], ['+'])\n",
      "(['1'], ['1'], ['-'])\n"
     ]
    }
   ],
   "source": [
    "# Test\n",
    "T =[\"3*x^4 - 4*x^1 + 2*x^0 + 7*x^-2\",\n",
    "    \"2*x - 6/-7*x + 5*x^2/3 + 4/3*x + 2 + x + x^3/-2\",\n",
    "    \"x - 6/-7*x + 5*x^2/3 + 4/3*x + 2 + x\",\n",
    "    \"-x - 6/-7*x + 5*x^2/3 + 4/3*x + 2 + x\",\n",
    "    \"2 - 6/-7*x + 5*x^2/3 + 4/3*x + 2\",\n",
    "    \"0*x^1\",\"0\",\"x\",\"0*x\",\"x^0\",\"-x\"]\n",
    "#T = [\"2*x^1 - 1\"]\n",
    "for t in T:\n",
    "    print(tPolynom2KoeffPot(t))"
   ]
  },
  {
   "cell_type": "code",
   "execution_count": 15,
   "metadata": {},
   "outputs": [],
   "source": [
    "def polynomAbl(T):\n",
    "    \"\"\"\n",
    "    Args:\n",
    "        T: Polynom als string\n",
    "    Returns:\n",
    "        T_: abgeleitetes Polynom als string\n",
    "    \"\"\"\n",
    "    K,P,V = tPolynom2KoeffPot(T)\n",
    "    K_ = []\n",
    "    P_ = []\n",
    "    for k,p in zip(K,P):\n",
    "        K_.append(tZahlMult(k,p))\n",
    "        P_.append(tZahlMinus1(p))\n",
    "    K_ = np.array(K_)\n",
    "    P_ = np.array(P_)\n",
    "    V = np.array(V)\n",
    "    mask = K_ != \"0\" # entweder Koeff. war 0, oder Pot. war 1\n",
    "    if len(K_) == 0 or len(K_[mask]) == 0:\n",
    "        return \"0\"\n",
    "    T_ = \"\"\n",
    "    for i,(k,p,v) in enumerate(zip(K_[mask],P_[mask],V[mask])):\n",
    "        if v == \"+\" and k[0] != \"-\":   # ++ --> +\n",
    "            v = \"+ \"\n",
    "        elif v == \"-\" and k[0] == \"-\": # -- --> +\n",
    "            v = \"+ \"\n",
    "            k = k[1:]\n",
    "        elif v == \"+\" and k[0] == \"-\": # +- --> -\n",
    "            v = \"- \"\n",
    "            k = k[1:]\n",
    "        else:                          # -+ --> -\n",
    "            v = \"- \"\n",
    "        anf = \" \"\n",
    "        x = \"*x^\"\n",
    "        if i == 0: # Am Anfang keine leeres Zeichen\n",
    "            anf = \"\"\n",
    "            if v == \"+ \":\n",
    "                v = \"\"\n",
    "            if v == \"- \":\n",
    "                v = \"-\"\n",
    "        if p == \"0\": # Potenz = 0 --> ohne x\n",
    "            x = \"\"\n",
    "            p = \"\"        \n",
    "        t = anf + v + k + x + p\n",
    "        T_ += t\n",
    "    return T_"
   ]
  },
  {
   "cell_type": "code",
   "execution_count": 16,
   "metadata": {},
   "outputs": [
    {
     "name": "stdout",
     "output_type": "stream",
     "text": [
      "12*x^3 - 4 - 14*x^-3\n",
      "2 + 6/7 + 10/3*x^-1/3 + 4/3 + 1 - 3/2*x^-5/2\n",
      "3/4*x^-7/4 + 3/2 + 1*x^5/2\n",
      "1 + 6/7 + 10/3*x^-1/3 + 4/3 + 1\n",
      "6/7 - 10/3*x^-5/3\n",
      "-12/10*x^-13/5\n",
      "0\n",
      "0\n",
      "1\n",
      "-1\n",
      "0\n",
      "0\n",
      "0\n"
     ]
    },
    {
     "name": "stderr",
     "output_type": "stream",
     "text": [
      "<ipython-input-15-222b35c8160f>:17: FutureWarning: elementwise comparison failed; returning scalar instead, but in the future will perform elementwise comparison\n",
      "  mask = K_ != \"0\" # entweder Koeff. war 0, oder Pot. war 1\n"
     ]
    }
   ],
   "source": [
    "# Test\n",
    "T =[\"3*x^4 - 4*x^1 + 2*x^0 + 7*x^-2\",\n",
    "    \"2*x - 6/-7*x + 5*x^2/3 + 4/3*x + 2 + x + x^3/-2\",\n",
    "    \"-x^3/-4 + -5/2*x^-0/1 - -3/2*x^1/1 - 2/-7*x^7/2\",\n",
    "    \"x - 6/-7*x + 5*x^2/3 + 4/3*x + 2 + x\",\n",
    "    \"2 - 6/-7*x + 5*x^2/-3 + 4/3*x^0 + 2\",\n",
    "    \"3/4*x^8/-5\",\n",
    "    \"0*x^1\",\"0\",\"x\",\"-x\",\"0*x\",\"x^0\",\"-1*x^-0/1\"]\n",
    "for t in T:\n",
    "    print(polynomAbl(t))"
   ]
  },
  {
   "cell_type": "code",
   "execution_count": null,
   "metadata": {},
   "outputs": [],
   "source": []
  }
 ],
 "metadata": {
  "kernelspec": {
   "display_name": "Python 3",
   "language": "python",
   "name": "python3"
  },
  "language_info": {
   "codemirror_mode": {
    "name": "ipython",
    "version": 3
   },
   "file_extension": ".py",
   "mimetype": "text/x-python",
   "name": "python",
   "nbconvert_exporter": "python",
   "pygments_lexer": "ipython3",
   "version": "3.8.5"
  }
 },
 "nbformat": 4,
 "nbformat_minor": 4
}
