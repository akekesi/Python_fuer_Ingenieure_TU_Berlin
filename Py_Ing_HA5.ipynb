{
 "cells": [
  {
   "cell_type": "markdown",
   "metadata": {},
   "source": [
    "# Hausaufgabe 5\n",
    "## Schallerzeugung durch einen umströmten Zylinder (Teil 2)\n",
    "<!-- Lizensiert unter (CC BY 4.0) Gert Herold, 2021 -->\n",
    "\n",
    "Bei der Umströmung eines zylindrischen Körpers bilden sich hinter diesem häufig Wirbelstraßen aus.\n",
    "Je nach Medium, Strömungsgeschwindigkeit und Durchmesser des Zylinders können die gegenläufigen Wirbel wahrnehmbare Töne verursachen.\n",
    "\n",
    "Zusätzlich zu dem in Hausaufgabe 4 ausgewerteten Messungen wurde die Schallabstrahlung von 9 Zylindern unterschiedlichen Durchmessers bei 13 verschiedenen Strömungsgeschwindigkeiten gemessen und der jeweilige Hiebton bestimmt.\n",
    "Die Ergebnisse sind in tabellarischer Form in der Datei `vf.csv` eingetragen."
   ]
  },
  {
   "cell_type": "markdown",
   "metadata": {},
   "source": [
    "__1) Laden Sie die detektierten Hiebtöne aus der Datei `vf.csv` und visualisieren Sie die Daten.__\n",
    "  * Stellen Sie in Abb. 1 den Verlauf der Frequenzen über der Strömungsgeschwindigkeit für jeden Durchmesser dar. Zeichnen Sie in dieselbe Abbildungen die gefundenen Hiebtöne aus der letzten HA ein.\n",
    "  * Stellen Sie in Abb. 2 den Verlauf der Frequenzen über dem Zylinderdurchmesser für jede Strömungsgeschwindigkeit dar.  \n",
    "  * Stellen Sie in Abb. 3 die Abhängigkeit der Frequenz von sowohl der Strömungsgeschwindigkeit als auch des Zylinderdurchmessers dar (z.B. über einen Konturplot)\n",
    "  * Fügen Sie jeweils eine aussagekräftige Legende bzw. Farbskala hinzu und achten Sie auf korrekte Achsenbeschriftungen.\n",
    "  * *Zusatzaufgabe: Lesen Sie neben den Frequenzen auch die Durchmesser-Werte automatisiert ein, anstelle sie per Hand einzugeben.*"
   ]
  },
  {
   "cell_type": "code",
   "execution_count": 1,
   "metadata": {},
   "outputs": [],
   "source": [
    "import numpy as np\n",
    "import pandas as pd\n",
    "import matplotlib.pyplot as plt\n",
    "from scipy.optimize import minimize\n",
    "%matplotlib inline"
   ]
  },
  {
   "cell_type": "code",
   "execution_count": 2,
   "metadata": {},
   "outputs": [],
   "source": [
    "import unittest\n",
    "t = unittest.TestCase()"
   ]
  },
  {
   "cell_type": "code",
   "execution_count": 3,
   "metadata": {},
   "outputs": [],
   "source": [
    "path = './data_HA5/'\n",
    "filename_HA5 = 'vf.csv'\n",
    "filename_HA4 = 'vf_d6mm_HA4.csv'\n",
    "path_HA5 = path + filename_HA5\n",
    "path_HA4 = path + filename_HA4"
   ]
  },
  {
   "cell_type": "code",
   "execution_count": 4,
   "metadata": {},
   "outputs": [
    {
     "data": {
      "text/html": [
       "<div>\n",
       "<style scoped>\n",
       "    .dataframe tbody tr th:only-of-type {\n",
       "        vertical-align: middle;\n",
       "    }\n",
       "\n",
       "    .dataframe tbody tr th {\n",
       "        vertical-align: top;\n",
       "    }\n",
       "\n",
       "    .dataframe thead th {\n",
       "        text-align: right;\n",
       "    }\n",
       "</style>\n",
       "<table border=\"1\" class=\"dataframe\">\n",
       "  <thead>\n",
       "    <tr style=\"text-align: right;\">\n",
       "      <th></th>\n",
       "      <th># v0 in m/s</th>\n",
       "      <th>d=3mm</th>\n",
       "      <th>d=4mm</th>\n",
       "      <th>d=5mm</th>\n",
       "      <th>d=7mm</th>\n",
       "      <th>d=9mm</th>\n",
       "      <th>d=11mm</th>\n",
       "      <th>d=13mm</th>\n",
       "      <th>d=16mm</th>\n",
       "      <th>d=20mm</th>\n",
       "    </tr>\n",
       "  </thead>\n",
       "  <tbody>\n",
       "    <tr>\n",
       "      <th>0</th>\n",
       "      <td>8.32</td>\n",
       "      <td>543.04</td>\n",
       "      <td>408.10</td>\n",
       "      <td>329.83</td>\n",
       "      <td>234.27</td>\n",
       "      <td>184.14</td>\n",
       "      <td>149.89</td>\n",
       "      <td>125.13</td>\n",
       "      <td>101.42</td>\n",
       "      <td>81.67</td>\n",
       "    </tr>\n",
       "    <tr>\n",
       "      <th>1</th>\n",
       "      <td>10.73</td>\n",
       "      <td>702.87</td>\n",
       "      <td>522.33</td>\n",
       "      <td>425.56</td>\n",
       "      <td>297.68</td>\n",
       "      <td>234.59</td>\n",
       "      <td>190.87</td>\n",
       "      <td>163.48</td>\n",
       "      <td>132.67</td>\n",
       "      <td>105.90</td>\n",
       "    </tr>\n",
       "    <tr>\n",
       "      <th>2</th>\n",
       "      <td>14.10</td>\n",
       "      <td>914.43</td>\n",
       "      <td>689.08</td>\n",
       "      <td>552.86</td>\n",
       "      <td>400.17</td>\n",
       "      <td>307.89</td>\n",
       "      <td>254.11</td>\n",
       "      <td>215.73</td>\n",
       "      <td>173.16</td>\n",
       "      <td>138.90</td>\n",
       "    </tr>\n",
       "    <tr>\n",
       "      <th>3</th>\n",
       "      <td>18.69</td>\n",
       "      <td>1210.97</td>\n",
       "      <td>918.65</td>\n",
       "      <td>740.07</td>\n",
       "      <td>524.51</td>\n",
       "      <td>411.06</td>\n",
       "      <td>337.24</td>\n",
       "      <td>284.78</td>\n",
       "      <td>230.46</td>\n",
       "      <td>185.08</td>\n",
       "    </tr>\n",
       "    <tr>\n",
       "      <th>4</th>\n",
       "      <td>22.10</td>\n",
       "      <td>1446.13</td>\n",
       "      <td>1087.37</td>\n",
       "      <td>881.73</td>\n",
       "      <td>622.21</td>\n",
       "      <td>483.80</td>\n",
       "      <td>397.48</td>\n",
       "      <td>336.60</td>\n",
       "      <td>274.14</td>\n",
       "      <td>217.86</td>\n",
       "    </tr>\n",
       "    <tr>\n",
       "      <th>5</th>\n",
       "      <td>25.06</td>\n",
       "      <td>1638.99</td>\n",
       "      <td>1231.13</td>\n",
       "      <td>992.45</td>\n",
       "      <td>710.41</td>\n",
       "      <td>548.76</td>\n",
       "      <td>449.56</td>\n",
       "      <td>381.22</td>\n",
       "      <td>308.65</td>\n",
       "      <td>247.42</td>\n",
       "    </tr>\n",
       "    <tr>\n",
       "      <th>6</th>\n",
       "      <td>29.76</td>\n",
       "      <td>1962.34</td>\n",
       "      <td>1462.56</td>\n",
       "      <td>1177.07</td>\n",
       "      <td>843.65</td>\n",
       "      <td>651.46</td>\n",
       "      <td>537.05</td>\n",
       "      <td>452.85</td>\n",
       "      <td>367.34</td>\n",
       "      <td>295.30</td>\n",
       "    </tr>\n",
       "    <tr>\n",
       "      <th>7</th>\n",
       "      <td>34.00</td>\n",
       "      <td>2236.47</td>\n",
       "      <td>1677.31</td>\n",
       "      <td>1341.23</td>\n",
       "      <td>957.86</td>\n",
       "      <td>745.89</td>\n",
       "      <td>610.97</td>\n",
       "      <td>518.58</td>\n",
       "      <td>420.16</td>\n",
       "      <td>336.71</td>\n",
       "    </tr>\n",
       "    <tr>\n",
       "      <th>8</th>\n",
       "      <td>37.25</td>\n",
       "      <td>2447.92</td>\n",
       "      <td>1841.72</td>\n",
       "      <td>1471.93</td>\n",
       "      <td>1055.76</td>\n",
       "      <td>819.18</td>\n",
       "      <td>666.91</td>\n",
       "      <td>566.73</td>\n",
       "      <td>460.14</td>\n",
       "      <td>369.54</td>\n",
       "    </tr>\n",
       "    <tr>\n",
       "      <th>9</th>\n",
       "      <td>40.95</td>\n",
       "      <td>2694.82</td>\n",
       "      <td>2026.79</td>\n",
       "      <td>1621.68</td>\n",
       "      <td>1154.95</td>\n",
       "      <td>899.34</td>\n",
       "      <td>736.58</td>\n",
       "      <td>621.65</td>\n",
       "      <td>510.68</td>\n",
       "      <td>405.74</td>\n",
       "    </tr>\n",
       "    <tr>\n",
       "      <th>10</th>\n",
       "      <td>44.07</td>\n",
       "      <td>2892.18</td>\n",
       "      <td>2169.96</td>\n",
       "      <td>1742.79</td>\n",
       "      <td>1243.99</td>\n",
       "      <td>965.24</td>\n",
       "      <td>789.57</td>\n",
       "      <td>670.82</td>\n",
       "      <td>544.51</td>\n",
       "      <td>436.51</td>\n",
       "    </tr>\n",
       "    <tr>\n",
       "      <th>11</th>\n",
       "      <td>45.42</td>\n",
       "      <td>2988.94</td>\n",
       "      <td>2249.23</td>\n",
       "      <td>1788.50</td>\n",
       "      <td>1284.97</td>\n",
       "      <td>996.56</td>\n",
       "      <td>815.28</td>\n",
       "      <td>692.82</td>\n",
       "      <td>559.41</td>\n",
       "      <td>449.39</td>\n",
       "    </tr>\n",
       "    <tr>\n",
       "      <th>12</th>\n",
       "      <td>47.31</td>\n",
       "      <td>3112.06</td>\n",
       "      <td>2343.26</td>\n",
       "      <td>1864.81</td>\n",
       "      <td>1337.72</td>\n",
       "      <td>1040.97</td>\n",
       "      <td>850.95</td>\n",
       "      <td>720.31</td>\n",
       "      <td>584.99</td>\n",
       "      <td>466.74</td>\n",
       "    </tr>\n",
       "  </tbody>\n",
       "</table>\n",
       "</div>"
      ],
      "text/plain": [
       "    # v0 in m/s      d=3mm      d=4mm      d=5mm      d=7mm      d=9mm  \\\n",
       "0          8.32     543.04     408.10     329.83     234.27     184.14   \n",
       "1         10.73     702.87     522.33     425.56     297.68     234.59   \n",
       "2         14.10     914.43     689.08     552.86     400.17     307.89   \n",
       "3         18.69    1210.97     918.65     740.07     524.51     411.06   \n",
       "4         22.10    1446.13    1087.37     881.73     622.21     483.80   \n",
       "5         25.06    1638.99    1231.13     992.45     710.41     548.76   \n",
       "6         29.76    1962.34    1462.56    1177.07     843.65     651.46   \n",
       "7         34.00    2236.47    1677.31    1341.23     957.86     745.89   \n",
       "8         37.25    2447.92    1841.72    1471.93    1055.76     819.18   \n",
       "9         40.95    2694.82    2026.79    1621.68    1154.95     899.34   \n",
       "10        44.07    2892.18    2169.96    1742.79    1243.99     965.24   \n",
       "11        45.42    2988.94    2249.23    1788.50    1284.97     996.56   \n",
       "12        47.31    3112.06    2343.26    1864.81    1337.72    1040.97   \n",
       "\n",
       "        d=11mm      d=13mm      d=16mm      d=20mm  \n",
       "0       149.89      125.13      101.42       81.67  \n",
       "1       190.87      163.48      132.67      105.90  \n",
       "2       254.11      215.73      173.16      138.90  \n",
       "3       337.24      284.78      230.46      185.08  \n",
       "4       397.48      336.60      274.14      217.86  \n",
       "5       449.56      381.22      308.65      247.42  \n",
       "6       537.05      452.85      367.34      295.30  \n",
       "7       610.97      518.58      420.16      336.71  \n",
       "8       666.91      566.73      460.14      369.54  \n",
       "9       736.58      621.65      510.68      405.74  \n",
       "10      789.57      670.82      544.51      436.51  \n",
       "11      815.28      692.82      559.41      449.39  \n",
       "12      850.95      720.31      584.99      466.74  "
      ]
     },
     "execution_count": 4,
     "metadata": {},
     "output_type": "execute_result"
    }
   ],
   "source": [
    "df_HA5 = pd.read_csv(path_HA5,header=1) # header=1 --> 0. row is omitted\n",
    "df_HA5"
   ]
  },
  {
   "cell_type": "code",
   "execution_count": 5,
   "metadata": {},
   "outputs": [
    {
     "data": {
      "text/html": [
       "<div>\n",
       "<style scoped>\n",
       "    .dataframe tbody tr th:only-of-type {\n",
       "        vertical-align: middle;\n",
       "    }\n",
       "\n",
       "    .dataframe tbody tr th {\n",
       "        vertical-align: top;\n",
       "    }\n",
       "\n",
       "    .dataframe thead th {\n",
       "        text-align: right;\n",
       "    }\n",
       "</style>\n",
       "<table border=\"1\" class=\"dataframe\">\n",
       "  <thead>\n",
       "    <tr style=\"text-align: right;\">\n",
       "      <th></th>\n",
       "      <th>Speed [m/s]</th>\n",
       "      <th>Char. Tone [Hz]</th>\n",
       "    </tr>\n",
       "  </thead>\n",
       "  <tbody>\n",
       "    <tr>\n",
       "      <th>0</th>\n",
       "      <td>8.32</td>\n",
       "      <td>272.8</td>\n",
       "    </tr>\n",
       "    <tr>\n",
       "      <th>1</th>\n",
       "      <td>10.73</td>\n",
       "      <td>351.7</td>\n",
       "    </tr>\n",
       "    <tr>\n",
       "      <th>2</th>\n",
       "      <td>14.10</td>\n",
       "      <td>463.0</td>\n",
       "    </tr>\n",
       "    <tr>\n",
       "      <th>3</th>\n",
       "      <td>18.69</td>\n",
       "      <td>614.7</td>\n",
       "    </tr>\n",
       "    <tr>\n",
       "      <th>4</th>\n",
       "      <td>22.10</td>\n",
       "      <td>727.2</td>\n",
       "    </tr>\n",
       "    <tr>\n",
       "      <th>5</th>\n",
       "      <td>25.06</td>\n",
       "      <td>825.0</td>\n",
       "    </tr>\n",
       "    <tr>\n",
       "      <th>6</th>\n",
       "      <td>29.76</td>\n",
       "      <td>980.2</td>\n",
       "    </tr>\n",
       "    <tr>\n",
       "      <th>7</th>\n",
       "      <td>34.00</td>\n",
       "      <td>1120.1</td>\n",
       "    </tr>\n",
       "    <tr>\n",
       "      <th>8</th>\n",
       "      <td>37.25</td>\n",
       "      <td>1227.6</td>\n",
       "    </tr>\n",
       "    <tr>\n",
       "      <th>9</th>\n",
       "      <td>40.95</td>\n",
       "      <td>1349.7</td>\n",
       "    </tr>\n",
       "    <tr>\n",
       "      <th>10</th>\n",
       "      <td>44.07</td>\n",
       "      <td>1452.6</td>\n",
       "    </tr>\n",
       "    <tr>\n",
       "      <th>11</th>\n",
       "      <td>45.42</td>\n",
       "      <td>1497.1</td>\n",
       "    </tr>\n",
       "    <tr>\n",
       "      <th>12</th>\n",
       "      <td>47.31</td>\n",
       "      <td>1559.2</td>\n",
       "    </tr>\n",
       "  </tbody>\n",
       "</table>\n",
       "</div>"
      ],
      "text/plain": [
       "    Speed [m/s]  Char. Tone [Hz]\n",
       "0          8.32            272.8\n",
       "1         10.73            351.7\n",
       "2         14.10            463.0\n",
       "3         18.69            614.7\n",
       "4         22.10            727.2\n",
       "5         25.06            825.0\n",
       "6         29.76            980.2\n",
       "7         34.00           1120.1\n",
       "8         37.25           1227.6\n",
       "9         40.95           1349.7\n",
       "10        44.07           1452.6\n",
       "11        45.42           1497.1\n",
       "12        47.31           1559.2"
      ]
     },
     "execution_count": 5,
     "metadata": {},
     "output_type": "execute_result"
    }
   ],
   "source": [
    "df_HA4 = pd.read_csv(path_HA4)\n",
    "df_HA4"
   ]
  },
  {
   "cell_type": "code",
   "execution_count": 6,
   "metadata": {},
   "outputs": [],
   "source": [
    "def name2dm(filename):\n",
    "    \"\"\"\n",
    "    Return diameter(dm) from filename\n",
    "    AB_d???mm_CDE.csv\n",
    "    dm = d???mm [mm]\n",
    "    \"\"\"\n",
    "    s = filename.find('_') + 1\n",
    "    e = filename[s:].find('_') + s\n",
    "    return filename[s] + '='+ filename[s+1:e]"
   ]
  },
  {
   "cell_type": "code",
   "execution_count": 7,
   "metadata": {},
   "outputs": [],
   "source": [
    "def cutout(List,front,after,t=str):\n",
    "    \"\"\"\n",
    "    cut out string from list of strings\n",
    "    args:\n",
    "        List:  list of strings\n",
    "        front: char. in front of the string which we want to cut out\n",
    "        after: char. after the string which we want to cut out\n",
    "        t:     type\n",
    "    return:\n",
    "        L:     list of cut out\n",
    "    \"\"\"\n",
    "    L = []\n",
    "    for l in List:\n",
    "        f = l.find(front)\n",
    "        a = l.find(after)\n",
    "        L.append(t(l[f+1:a]))\n",
    "    return L"
   ]
  },
  {
   "cell_type": "code",
   "execution_count": 8,
   "metadata": {},
   "outputs": [],
   "source": [
    "def indexbefore(L,x):\n",
    "    \"\"\"\n",
    "    arg:\n",
    "        L:      sorted list\n",
    "        x:      number\n",
    "    return:\n",
    "        index: index of number before of x\n",
    "    \"\"\"\n",
    "    if L[0] < L[-1]:\n",
    "        for i in range(len(L)):\n",
    "            if x <= L[i]:\n",
    "                return i-1\n",
    "    if L[0] > L[-1]:\n",
    "        for i in range(len(L)):\n",
    "            if x >= L[i]:\n",
    "                return i-1"
   ]
  },
  {
   "cell_type": "code",
   "execution_count": 9,
   "metadata": {},
   "outputs": [
    {
     "data": {
      "text/plain": [
       "(3, 1)"
      ]
     },
     "execution_count": 9,
     "metadata": {},
     "output_type": "execute_result"
    }
   ],
   "source": [
    "# Test of indexbefore()\n",
    "L = [0,1,2,3,4,5,6]\n",
    "L_ = [6,5,4,3,2,1,0]\n",
    "x = 4\n",
    "indexbefore(L,x), indexbefore(L_,x)"
   ]
  },
  {
   "cell_type": "code",
   "execution_count": 10,
   "metadata": {},
   "outputs": [],
   "source": [
    "def ratio(x1,x3,y1,y2,y3):\n",
    "    return x1+(y2-y1)/(y3-y1)*(x3-x1)"
   ]
  },
  {
   "cell_type": "code",
   "execution_count": 11,
   "metadata": {
    "scrolled": false
   },
   "outputs": [
    {
     "data": {
      "text/html": [
       "<div>\n",
       "<style scoped>\n",
       "    .dataframe tbody tr th:only-of-type {\n",
       "        vertical-align: middle;\n",
       "    }\n",
       "\n",
       "    .dataframe tbody tr th {\n",
       "        vertical-align: top;\n",
       "    }\n",
       "\n",
       "    .dataframe thead th {\n",
       "        text-align: right;\n",
       "    }\n",
       "</style>\n",
       "<table border=\"1\" class=\"dataframe\">\n",
       "  <thead>\n",
       "    <tr style=\"text-align: right;\">\n",
       "      <th></th>\n",
       "      <th># v0 in m/s</th>\n",
       "      <th>d=3mm</th>\n",
       "      <th>d=4mm</th>\n",
       "      <th>d=5mm</th>\n",
       "      <th>d=6mm</th>\n",
       "      <th>d=7mm</th>\n",
       "      <th>d=9mm</th>\n",
       "      <th>d=11mm</th>\n",
       "      <th>d=13mm</th>\n",
       "      <th>d=16mm</th>\n",
       "      <th>d=20mm</th>\n",
       "    </tr>\n",
       "  </thead>\n",
       "  <tbody>\n",
       "    <tr>\n",
       "      <th>0</th>\n",
       "      <td>8.32</td>\n",
       "      <td>543.04</td>\n",
       "      <td>408.10</td>\n",
       "      <td>329.83</td>\n",
       "      <td>272.8</td>\n",
       "      <td>234.27</td>\n",
       "      <td>184.14</td>\n",
       "      <td>149.89</td>\n",
       "      <td>125.13</td>\n",
       "      <td>101.42</td>\n",
       "      <td>81.67</td>\n",
       "    </tr>\n",
       "    <tr>\n",
       "      <th>1</th>\n",
       "      <td>10.73</td>\n",
       "      <td>702.87</td>\n",
       "      <td>522.33</td>\n",
       "      <td>425.56</td>\n",
       "      <td>351.7</td>\n",
       "      <td>297.68</td>\n",
       "      <td>234.59</td>\n",
       "      <td>190.87</td>\n",
       "      <td>163.48</td>\n",
       "      <td>132.67</td>\n",
       "      <td>105.90</td>\n",
       "    </tr>\n",
       "    <tr>\n",
       "      <th>2</th>\n",
       "      <td>14.10</td>\n",
       "      <td>914.43</td>\n",
       "      <td>689.08</td>\n",
       "      <td>552.86</td>\n",
       "      <td>463.0</td>\n",
       "      <td>400.17</td>\n",
       "      <td>307.89</td>\n",
       "      <td>254.11</td>\n",
       "      <td>215.73</td>\n",
       "      <td>173.16</td>\n",
       "      <td>138.90</td>\n",
       "    </tr>\n",
       "    <tr>\n",
       "      <th>3</th>\n",
       "      <td>18.69</td>\n",
       "      <td>1210.97</td>\n",
       "      <td>918.65</td>\n",
       "      <td>740.07</td>\n",
       "      <td>614.7</td>\n",
       "      <td>524.51</td>\n",
       "      <td>411.06</td>\n",
       "      <td>337.24</td>\n",
       "      <td>284.78</td>\n",
       "      <td>230.46</td>\n",
       "      <td>185.08</td>\n",
       "    </tr>\n",
       "    <tr>\n",
       "      <th>4</th>\n",
       "      <td>22.10</td>\n",
       "      <td>1446.13</td>\n",
       "      <td>1087.37</td>\n",
       "      <td>881.73</td>\n",
       "      <td>727.2</td>\n",
       "      <td>622.21</td>\n",
       "      <td>483.80</td>\n",
       "      <td>397.48</td>\n",
       "      <td>336.60</td>\n",
       "      <td>274.14</td>\n",
       "      <td>217.86</td>\n",
       "    </tr>\n",
       "    <tr>\n",
       "      <th>5</th>\n",
       "      <td>25.06</td>\n",
       "      <td>1638.99</td>\n",
       "      <td>1231.13</td>\n",
       "      <td>992.45</td>\n",
       "      <td>825.0</td>\n",
       "      <td>710.41</td>\n",
       "      <td>548.76</td>\n",
       "      <td>449.56</td>\n",
       "      <td>381.22</td>\n",
       "      <td>308.65</td>\n",
       "      <td>247.42</td>\n",
       "    </tr>\n",
       "    <tr>\n",
       "      <th>6</th>\n",
       "      <td>29.76</td>\n",
       "      <td>1962.34</td>\n",
       "      <td>1462.56</td>\n",
       "      <td>1177.07</td>\n",
       "      <td>980.2</td>\n",
       "      <td>843.65</td>\n",
       "      <td>651.46</td>\n",
       "      <td>537.05</td>\n",
       "      <td>452.85</td>\n",
       "      <td>367.34</td>\n",
       "      <td>295.30</td>\n",
       "    </tr>\n",
       "    <tr>\n",
       "      <th>7</th>\n",
       "      <td>34.00</td>\n",
       "      <td>2236.47</td>\n",
       "      <td>1677.31</td>\n",
       "      <td>1341.23</td>\n",
       "      <td>1120.1</td>\n",
       "      <td>957.86</td>\n",
       "      <td>745.89</td>\n",
       "      <td>610.97</td>\n",
       "      <td>518.58</td>\n",
       "      <td>420.16</td>\n",
       "      <td>336.71</td>\n",
       "    </tr>\n",
       "    <tr>\n",
       "      <th>8</th>\n",
       "      <td>37.25</td>\n",
       "      <td>2447.92</td>\n",
       "      <td>1841.72</td>\n",
       "      <td>1471.93</td>\n",
       "      <td>1227.6</td>\n",
       "      <td>1055.76</td>\n",
       "      <td>819.18</td>\n",
       "      <td>666.91</td>\n",
       "      <td>566.73</td>\n",
       "      <td>460.14</td>\n",
       "      <td>369.54</td>\n",
       "    </tr>\n",
       "    <tr>\n",
       "      <th>9</th>\n",
       "      <td>40.95</td>\n",
       "      <td>2694.82</td>\n",
       "      <td>2026.79</td>\n",
       "      <td>1621.68</td>\n",
       "      <td>1349.7</td>\n",
       "      <td>1154.95</td>\n",
       "      <td>899.34</td>\n",
       "      <td>736.58</td>\n",
       "      <td>621.65</td>\n",
       "      <td>510.68</td>\n",
       "      <td>405.74</td>\n",
       "    </tr>\n",
       "    <tr>\n",
       "      <th>10</th>\n",
       "      <td>44.07</td>\n",
       "      <td>2892.18</td>\n",
       "      <td>2169.96</td>\n",
       "      <td>1742.79</td>\n",
       "      <td>1452.6</td>\n",
       "      <td>1243.99</td>\n",
       "      <td>965.24</td>\n",
       "      <td>789.57</td>\n",
       "      <td>670.82</td>\n",
       "      <td>544.51</td>\n",
       "      <td>436.51</td>\n",
       "    </tr>\n",
       "    <tr>\n",
       "      <th>11</th>\n",
       "      <td>45.42</td>\n",
       "      <td>2988.94</td>\n",
       "      <td>2249.23</td>\n",
       "      <td>1788.50</td>\n",
       "      <td>1497.1</td>\n",
       "      <td>1284.97</td>\n",
       "      <td>996.56</td>\n",
       "      <td>815.28</td>\n",
       "      <td>692.82</td>\n",
       "      <td>559.41</td>\n",
       "      <td>449.39</td>\n",
       "    </tr>\n",
       "    <tr>\n",
       "      <th>12</th>\n",
       "      <td>47.31</td>\n",
       "      <td>3112.06</td>\n",
       "      <td>2343.26</td>\n",
       "      <td>1864.81</td>\n",
       "      <td>1559.2</td>\n",
       "      <td>1337.72</td>\n",
       "      <td>1040.97</td>\n",
       "      <td>850.95</td>\n",
       "      <td>720.31</td>\n",
       "      <td>584.99</td>\n",
       "      <td>466.74</td>\n",
       "    </tr>\n",
       "  </tbody>\n",
       "</table>\n",
       "</div>"
      ],
      "text/plain": [
       "    # v0 in m/s    d=3mm    d=4mm    d=5mm   d=6mm    d=7mm    d=9mm  d=11mm  \\\n",
       "0          8.32   543.04   408.10   329.83   272.8   234.27   184.14  149.89   \n",
       "1         10.73   702.87   522.33   425.56   351.7   297.68   234.59  190.87   \n",
       "2         14.10   914.43   689.08   552.86   463.0   400.17   307.89  254.11   \n",
       "3         18.69  1210.97   918.65   740.07   614.7   524.51   411.06  337.24   \n",
       "4         22.10  1446.13  1087.37   881.73   727.2   622.21   483.80  397.48   \n",
       "5         25.06  1638.99  1231.13   992.45   825.0   710.41   548.76  449.56   \n",
       "6         29.76  1962.34  1462.56  1177.07   980.2   843.65   651.46  537.05   \n",
       "7         34.00  2236.47  1677.31  1341.23  1120.1   957.86   745.89  610.97   \n",
       "8         37.25  2447.92  1841.72  1471.93  1227.6  1055.76   819.18  666.91   \n",
       "9         40.95  2694.82  2026.79  1621.68  1349.7  1154.95   899.34  736.58   \n",
       "10        44.07  2892.18  2169.96  1742.79  1452.6  1243.99   965.24  789.57   \n",
       "11        45.42  2988.94  2249.23  1788.50  1497.1  1284.97   996.56  815.28   \n",
       "12        47.31  3112.06  2343.26  1864.81  1559.2  1337.72  1040.97  850.95   \n",
       "\n",
       "    d=13mm  d=16mm  d=20mm  \n",
       "0   125.13  101.42   81.67  \n",
       "1   163.48  132.67  105.90  \n",
       "2   215.73  173.16  138.90  \n",
       "3   284.78  230.46  185.08  \n",
       "4   336.60  274.14  217.86  \n",
       "5   381.22  308.65  247.42  \n",
       "6   452.85  367.34  295.30  \n",
       "7   518.58  420.16  336.71  \n",
       "8   566.73  460.14  369.54  \n",
       "9   621.65  510.68  405.74  \n",
       "10  670.82  544.51  436.51  \n",
       "11  692.82  559.41  449.39  \n",
       "12  720.31  584.99  466.74  "
      ]
     },
     "execution_count": 11,
     "metadata": {},
     "output_type": "execute_result"
    }
   ],
   "source": [
    "df_HA5.columns = df_HA5.columns.str.strip()           # header without spaces\n",
    "header_HA5 = df_HA5.columns                           # header from data of HA5\n",
    "header_HA4 = df_HA4.columns                           # header from data of HA4\n",
    "\n",
    "x_HA5 = df_HA5[header_HA5[0]].tolist()                # velocity for x-axis from HA5\n",
    "x_HA4 = df_HA4[header_HA4[0]].tolist()                # velocity for x-axis from HA4\n",
    "\n",
    "dm_HA4 = name2dm(filename_HA4)                        # dm from HA4 as string --> header for DataFrame\n",
    "dm_HA4_int = cutout([dm_HA4],\"=\",\"m\",int)             # header --> dm as int\n",
    "dm_HA5_int = cutout(header_HA5[1:],\"=\",\"m\",int)       # header --> dm as int\n",
    "index = indexbefore(dm_HA5_int,dm_HA4_int[0])         # position dm_HA4 in dm_HA5, but the_real_pos = pos+2\n",
    "\n",
    "t.assertEqual(x_HA5,x_HA4,\"velocities are not the same.\") # check if velocity_HA4 == velocity_HA5\n",
    "\n",
    "if dm_HA4 not in header_HA5:\n",
    "    df_HA5.insert(loc=index+2,column=dm_HA4,value=df_HA4[header_HA4[1]]) # insert data from HA4 to df_HA5\n",
    "df_HA5"
   ]
  },
  {
   "cell_type": "code",
   "execution_count": 12,
   "metadata": {},
   "outputs": [
    {
     "name": "stdout",
     "output_type": "stream",
     "text": [
      "(13, 10) (13, 10) (10, 13)\n"
     ]
    }
   ],
   "source": [
    "header = df_HA5.columns.tolist()          # header\n",
    "velocity = df_HA5[header[0]].tolist()     # velocity as array\n",
    "diameter = cutout(header[1:],\"=\",\"m\",int) # diameter as array\n",
    "values = np.array(df_HA5.values.tolist())\n",
    "FF = values[:,1:]                         # frequence as matrix\n",
    "\n",
    "DD,VV = np.meshgrid(diameter,velocity)\n",
    "\n",
    "print(VV.shape,DD.shape,FF.T.shape)"
   ]
  },
  {
   "cell_type": "code",
   "execution_count": 13,
   "metadata": {},
   "outputs": [
    {
     "data": {
      "image/png": "[encoded data removed]",
      "text/plain": [
       "<Figure size 1080x360 with 1 Axes>"
      ]
     },
     "metadata": {
      "needs_background": "light"
     },
     "output_type": "display_data"
    }
   ],
   "source": [
    "plt.figure(figsize=(15,5))\n",
    "for label in header[1:]:\n",
    "    plt.plot(velocity,df_HA5[label],\"o-\",label=label)\n",
    "plt.legend()\n",
    "plt.xticks(velocity,rotation=90)\n",
    "plt.xlabel(\"Geschwindigkeit in m/s\")\n",
    "plt.ylabel(\"Frequenz mit maximalem Pegel in Hz\")\n",
    "plt.grid()"
   ]
  },
  {
   "cell_type": "code",
   "execution_count": 14,
   "metadata": {
    "scrolled": false
   },
   "outputs": [
    {
     "data": {
      "image/png": "[encoded data removed]",
      "text/plain": [
       "<Figure size 1080x360 with 1 Axes>"
      ]
     },
     "metadata": {
      "needs_background": "light"
     },
     "output_type": "display_data"
    }
   ],
   "source": [
    "plt.figure(figsize=(15,5))\n",
    "for y in values:\n",
    "    plt.plot(diameter,y[1:],'o-',label=f\"v={y[0]:.2f} m/s\")\n",
    "plt.legend()\n",
    "plt.xticks(diameter)\n",
    "plt.xlabel(\"Durchmesser in mm\")\n",
    "plt.ylabel(\"Frequenz mit maximalem Pegel in Hz\")\n",
    "plt.grid()"
   ]
  },
  {
   "cell_type": "code",
   "execution_count": 15,
   "metadata": {
    "scrolled": false
   },
   "outputs": [
    {
     "data": {
      "image/png": "[encoded data removed]",
      "text/plain": [
       "<Figure size 1080x360 with 2 Axes>"
      ]
     },
     "metadata": {
      "needs_background": "light"
     },
     "output_type": "display_data"
    }
   ],
   "source": [
    "plt.figure(figsize=(15,5))\n",
    "plt.contourf(VV,DD,FF)\n",
    "plt.colorbar()\n",
    "plt.xticks(velocity,rotation=90)\n",
    "plt.yticks(diameter)\n",
    "plt.xlabel(\"Geschwindigkeit in m/s\")\n",
    "plt.ylabel(\"Durchmesser in mm\")\n",
    "plt.title(\"Frequenz mit maximalem Pegel in Hz\")\n",
    "plt.grid()"
   ]
  },
  {
   "cell_type": "code",
   "execution_count": 16,
   "metadata": {},
   "outputs": [],
   "source": [
    "%matplotlib widget"
   ]
  },
  {
   "cell_type": "code",
   "execution_count": 17,
   "metadata": {
    "scrolled": false
   },
   "outputs": [
    {
     "data": {
      "application/vnd.jupyter.widget-view+json": {
       "model_id": "eb4a84b6db394c04bffebef945d59ef6",
       "version_major": 2,
       "version_minor": 0
      },
      "text/plain": [
       "Canvas(toolbar=Toolbar(toolitems=[('Home', 'Reset original view', 'home', 'home'), ('Back', 'Back to previous …"
      ]
     },
     "metadata": {},
     "output_type": "display_data"
    }
   ],
   "source": [
    "fig = plt.figure(figsize=(10,10))\n",
    "ax = plt.axes(projection='3d')\n",
    "S = ax.plot_surface(VV,DD,FF,cmap='viridis')\n",
    "fig.colorbar(S)\n",
    "ax.set_xticks(velocity)\n",
    "ax.set_yticks(diameter)\n",
    "ax.set_xlabel(\"Geschwindigkeit in m/s\")\n",
    "ax.set_ylabel(\"Durchmesser in mm\")\n",
    "ax.set_title(\"Frequenz mit maximalem Pegel in Hz\");"
   ]
  },
  {
   "cell_type": "markdown",
   "metadata": {},
   "source": [
    "Die Frequenz des Hiebtons hängt mindestens von den zwei Größen Durchmesser und Geschwindigkeit ab:\n",
    "$$\n",
    "f = f(d,v)\n",
    "$$\n",
    "Die Abhängigkeit von $v$ (Abb. 1) wurde in HA 4 mittels der Regressionsgerade gefunden. \n",
    "Die Abhängigkeit von $d$ (Abb. 2) könnte nach demselben Schema geschehen, allerdings trifft die Annahme einer direkt linearen Abhängigkeit offensichtlich nicht zu.\n",
    "Außerdem wäre es wünschenswert, beide Parameter einer einzigen Berechnungsformel übergeben zu können."
   ]
  },
  {
   "cell_type": "markdown",
   "metadata": {},
   "source": [
    "Im einfachsten Fall mit nur linearen Abhängigkeiten könnten wir schreiben:\n",
    "$$\n",
    "f(d,v) = \\beta_0 + \\beta_1\\,d + \\beta_2\\,v + \\epsilon\n",
    "$$\n",
    "Die Koeffizienten $\\beta_n$ erfüllen denselben Zweck wie $a$ und $b$ aus HA 4. \n",
    "$\\epsilon$ ist eine Störgröße, die als zufällig angenommen wird und die den Fehler beschreibt, den das Modell z.B. durch unbeobachtbare Abhängigkeiten macht.\n",
    "Die Lösung eines Problems mithilfe einer solchen Formulierung geschieht über die [multiple lineare Regression](https://de.wikipedia.org/wiki/Multiple_lineare_Regression).\n",
    "\n",
    "Nichtlineare Abhängigkeiten können mit diesem Schema auch untersucht werden, sofern eine Annahme zur Art der Nichtlinearität getroffen wird, z.B.:\n",
    "$$\n",
    "f(d,v) = \\beta_1\\,d + \\beta_2\\,v + \\beta_3\\,d^2 + \\ldots + \\beta_4\\,\\frac{d}{v} + \\beta_5\\,\\frac{v}{d} + \\ldots + \\beta_6\\,\\sin(v^\\sqrt{d}) + \\ldots +  \\epsilon\n",
    "$$\n",
    "Das Modell kann dabei beliebig komplex werden.\n",
    "Allgemein können wir auch schreiben:\n",
    "$$\n",
    "f = \\pmb{x} \\cdot \\pmb{\\beta} + \\epsilon~,\n",
    "$$\n",
    "wobei der Vektor $\\pmb{x}$ die charakteristischen Größen wie $d$, $v$ oder daraus abgeleitete Terme enthält (im maschinellen Lernen wird hier auch von *Features* gesprochen) und $\\pmb{\\beta}$ die zunächst noch unbekannten Koeffizienten.\n",
    "\n",
    "Natürlich sollen unsere Messdaten (gekennzeichnet mit Tilde $\\tilde{}$) durch das Modell beschreibbar sein, sodass gilt:\n",
    "$$\n",
    "\\tilde{f}_i = \\pmb{x}_i \\cdot \\pmb{\\beta} + \\epsilon_i\n",
    "$$\n",
    "bzw. wenn wir die Vektoren $\\pmb{x}_i$ als Zeilen in eine Matrix $\\pmb{X}$ schreiben:\n",
    "$$\n",
    "\\pmb{\\tilde{f}}  = \\pmb{X} \\cdot \\pmb{\\beta} + \\pmb{\\epsilon}~.\n",
    "$$\n",
    "In die Form dieser Gleichung wollen wir nun unsere Größen bringen.\n",
    "\n",
    "**2) Erstellen Sie aus den Strömungsgeschwindigkeiten und Zylinderdurchmessern eine Modellmatrix $\\pmb{X}$ und aus den zugehörigen Frequenzen den Messvektor $\\pmb{\\tilde{f}}$.**\n",
    "  * Für die Generierung von $\\pmb{X}$ muss bereits ein Modell angenommen werden. Verwenden Sie zunächst $\\tilde{f}_i = \\beta_0\\cdot 1 + \\beta_1\\cdot d_i + \\beta_2\\cdot v_i + \\epsilon_i$. Das Modell soll jedoch später leicht ausgetauscht werden können.\n",
    "  * Geben Sie die Dimensionen der beiden erstellten Größen aus.\n",
    "  * Plotten Sie zur Überprüfung die Spalten der Matrix $\\pmb{X}$ über $\\pmb{\\tilde{f}}$.\n",
    " \n",
    "*Hinweis: Der unbekannte Fehler $\\epsilon_i$ ist immer implizit enthalten und muss hier nicht über eine eigene Variable \"mitmodelliert\" werden.*"
   ]
  },
  {
   "cell_type": "code",
   "execution_count": 18,
   "metadata": {},
   "outputs": [
    {
     "data": {
      "text/html": [
       "<div>\n",
       "<style scoped>\n",
       "    .dataframe tbody tr th:only-of-type {\n",
       "        vertical-align: middle;\n",
       "    }\n",
       "\n",
       "    .dataframe tbody tr th {\n",
       "        vertical-align: top;\n",
       "    }\n",
       "\n",
       "    .dataframe thead th {\n",
       "        text-align: right;\n",
       "    }\n",
       "</style>\n",
       "<table border=\"1\" class=\"dataframe\">\n",
       "  <thead>\n",
       "    <tr style=\"text-align: right;\">\n",
       "      <th></th>\n",
       "      <th># v0 in m/s</th>\n",
       "      <th>d=3mm</th>\n",
       "      <th>d=4mm</th>\n",
       "      <th>d=5mm</th>\n",
       "      <th>d=6mm</th>\n",
       "      <th>d=7mm</th>\n",
       "      <th>d=9mm</th>\n",
       "      <th>d=11mm</th>\n",
       "      <th>d=13mm</th>\n",
       "      <th>d=16mm</th>\n",
       "      <th>d=20mm</th>\n",
       "    </tr>\n",
       "  </thead>\n",
       "  <tbody>\n",
       "    <tr>\n",
       "      <th>0</th>\n",
       "      <td>8.32</td>\n",
       "      <td>543.04</td>\n",
       "      <td>408.10</td>\n",
       "      <td>329.83</td>\n",
       "      <td>272.8</td>\n",
       "      <td>234.27</td>\n",
       "      <td>184.14</td>\n",
       "      <td>149.89</td>\n",
       "      <td>125.13</td>\n",
       "      <td>101.42</td>\n",
       "      <td>81.67</td>\n",
       "    </tr>\n",
       "    <tr>\n",
       "      <th>1</th>\n",
       "      <td>10.73</td>\n",
       "      <td>702.87</td>\n",
       "      <td>522.33</td>\n",
       "      <td>425.56</td>\n",
       "      <td>351.7</td>\n",
       "      <td>297.68</td>\n",
       "      <td>234.59</td>\n",
       "      <td>190.87</td>\n",
       "      <td>163.48</td>\n",
       "      <td>132.67</td>\n",
       "      <td>105.90</td>\n",
       "    </tr>\n",
       "    <tr>\n",
       "      <th>2</th>\n",
       "      <td>14.10</td>\n",
       "      <td>914.43</td>\n",
       "      <td>689.08</td>\n",
       "      <td>552.86</td>\n",
       "      <td>463.0</td>\n",
       "      <td>400.17</td>\n",
       "      <td>307.89</td>\n",
       "      <td>254.11</td>\n",
       "      <td>215.73</td>\n",
       "      <td>173.16</td>\n",
       "      <td>138.90</td>\n",
       "    </tr>\n",
       "    <tr>\n",
       "      <th>3</th>\n",
       "      <td>18.69</td>\n",
       "      <td>1210.97</td>\n",
       "      <td>918.65</td>\n",
       "      <td>740.07</td>\n",
       "      <td>614.7</td>\n",
       "      <td>524.51</td>\n",
       "      <td>411.06</td>\n",
       "      <td>337.24</td>\n",
       "      <td>284.78</td>\n",
       "      <td>230.46</td>\n",
       "      <td>185.08</td>\n",
       "    </tr>\n",
       "    <tr>\n",
       "      <th>4</th>\n",
       "      <td>22.10</td>\n",
       "      <td>1446.13</td>\n",
       "      <td>1087.37</td>\n",
       "      <td>881.73</td>\n",
       "      <td>727.2</td>\n",
       "      <td>622.21</td>\n",
       "      <td>483.80</td>\n",
       "      <td>397.48</td>\n",
       "      <td>336.60</td>\n",
       "      <td>274.14</td>\n",
       "      <td>217.86</td>\n",
       "    </tr>\n",
       "    <tr>\n",
       "      <th>5</th>\n",
       "      <td>25.06</td>\n",
       "      <td>1638.99</td>\n",
       "      <td>1231.13</td>\n",
       "      <td>992.45</td>\n",
       "      <td>825.0</td>\n",
       "      <td>710.41</td>\n",
       "      <td>548.76</td>\n",
       "      <td>449.56</td>\n",
       "      <td>381.22</td>\n",
       "      <td>308.65</td>\n",
       "      <td>247.42</td>\n",
       "    </tr>\n",
       "    <tr>\n",
       "      <th>6</th>\n",
       "      <td>29.76</td>\n",
       "      <td>1962.34</td>\n",
       "      <td>1462.56</td>\n",
       "      <td>1177.07</td>\n",
       "      <td>980.2</td>\n",
       "      <td>843.65</td>\n",
       "      <td>651.46</td>\n",
       "      <td>537.05</td>\n",
       "      <td>452.85</td>\n",
       "      <td>367.34</td>\n",
       "      <td>295.30</td>\n",
       "    </tr>\n",
       "    <tr>\n",
       "      <th>7</th>\n",
       "      <td>34.00</td>\n",
       "      <td>2236.47</td>\n",
       "      <td>1677.31</td>\n",
       "      <td>1341.23</td>\n",
       "      <td>1120.1</td>\n",
       "      <td>957.86</td>\n",
       "      <td>745.89</td>\n",
       "      <td>610.97</td>\n",
       "      <td>518.58</td>\n",
       "      <td>420.16</td>\n",
       "      <td>336.71</td>\n",
       "    </tr>\n",
       "    <tr>\n",
       "      <th>8</th>\n",
       "      <td>37.25</td>\n",
       "      <td>2447.92</td>\n",
       "      <td>1841.72</td>\n",
       "      <td>1471.93</td>\n",
       "      <td>1227.6</td>\n",
       "      <td>1055.76</td>\n",
       "      <td>819.18</td>\n",
       "      <td>666.91</td>\n",
       "      <td>566.73</td>\n",
       "      <td>460.14</td>\n",
       "      <td>369.54</td>\n",
       "    </tr>\n",
       "    <tr>\n",
       "      <th>9</th>\n",
       "      <td>40.95</td>\n",
       "      <td>2694.82</td>\n",
       "      <td>2026.79</td>\n",
       "      <td>1621.68</td>\n",
       "      <td>1349.7</td>\n",
       "      <td>1154.95</td>\n",
       "      <td>899.34</td>\n",
       "      <td>736.58</td>\n",
       "      <td>621.65</td>\n",
       "      <td>510.68</td>\n",
       "      <td>405.74</td>\n",
       "    </tr>\n",
       "    <tr>\n",
       "      <th>10</th>\n",
       "      <td>44.07</td>\n",
       "      <td>2892.18</td>\n",
       "      <td>2169.96</td>\n",
       "      <td>1742.79</td>\n",
       "      <td>1452.6</td>\n",
       "      <td>1243.99</td>\n",
       "      <td>965.24</td>\n",
       "      <td>789.57</td>\n",
       "      <td>670.82</td>\n",
       "      <td>544.51</td>\n",
       "      <td>436.51</td>\n",
       "    </tr>\n",
       "    <tr>\n",
       "      <th>11</th>\n",
       "      <td>45.42</td>\n",
       "      <td>2988.94</td>\n",
       "      <td>2249.23</td>\n",
       "      <td>1788.50</td>\n",
       "      <td>1497.1</td>\n",
       "      <td>1284.97</td>\n",
       "      <td>996.56</td>\n",
       "      <td>815.28</td>\n",
       "      <td>692.82</td>\n",
       "      <td>559.41</td>\n",
       "      <td>449.39</td>\n",
       "    </tr>\n",
       "    <tr>\n",
       "      <th>12</th>\n",
       "      <td>47.31</td>\n",
       "      <td>3112.06</td>\n",
       "      <td>2343.26</td>\n",
       "      <td>1864.81</td>\n",
       "      <td>1559.2</td>\n",
       "      <td>1337.72</td>\n",
       "      <td>1040.97</td>\n",
       "      <td>850.95</td>\n",
       "      <td>720.31</td>\n",
       "      <td>584.99</td>\n",
       "      <td>466.74</td>\n",
       "    </tr>\n",
       "  </tbody>\n",
       "</table>\n",
       "</div>"
      ],
      "text/plain": [
       "    # v0 in m/s    d=3mm    d=4mm    d=5mm   d=6mm    d=7mm    d=9mm  d=11mm  \\\n",
       "0          8.32   543.04   408.10   329.83   272.8   234.27   184.14  149.89   \n",
       "1         10.73   702.87   522.33   425.56   351.7   297.68   234.59  190.87   \n",
       "2         14.10   914.43   689.08   552.86   463.0   400.17   307.89  254.11   \n",
       "3         18.69  1210.97   918.65   740.07   614.7   524.51   411.06  337.24   \n",
       "4         22.10  1446.13  1087.37   881.73   727.2   622.21   483.80  397.48   \n",
       "5         25.06  1638.99  1231.13   992.45   825.0   710.41   548.76  449.56   \n",
       "6         29.76  1962.34  1462.56  1177.07   980.2   843.65   651.46  537.05   \n",
       "7         34.00  2236.47  1677.31  1341.23  1120.1   957.86   745.89  610.97   \n",
       "8         37.25  2447.92  1841.72  1471.93  1227.6  1055.76   819.18  666.91   \n",
       "9         40.95  2694.82  2026.79  1621.68  1349.7  1154.95   899.34  736.58   \n",
       "10        44.07  2892.18  2169.96  1742.79  1452.6  1243.99   965.24  789.57   \n",
       "11        45.42  2988.94  2249.23  1788.50  1497.1  1284.97   996.56  815.28   \n",
       "12        47.31  3112.06  2343.26  1864.81  1559.2  1337.72  1040.97  850.95   \n",
       "\n",
       "    d=13mm  d=16mm  d=20mm  \n",
       "0   125.13  101.42   81.67  \n",
       "1   163.48  132.67  105.90  \n",
       "2   215.73  173.16  138.90  \n",
       "3   284.78  230.46  185.08  \n",
       "4   336.60  274.14  217.86  \n",
       "5   381.22  308.65  247.42  \n",
       "6   452.85  367.34  295.30  \n",
       "7   518.58  420.16  336.71  \n",
       "8   566.73  460.14  369.54  \n",
       "9   621.65  510.68  405.74  \n",
       "10  670.82  544.51  436.51  \n",
       "11  692.82  559.41  449.39  \n",
       "12  720.31  584.99  466.74  "
      ]
     },
     "execution_count": 18,
     "metadata": {},
     "output_type": "execute_result"
    }
   ],
   "source": [
    "df_HA5"
   ]
  },
  {
   "cell_type": "code",
   "execution_count": 19,
   "metadata": {},
   "outputs": [
    {
     "data": {
      "text/plain": [
       "(       1   d      v\n",
       " 0    1.0   3   8.32\n",
       " 1    1.0   4   8.32\n",
       " 2    1.0   5   8.32\n",
       " 3    1.0   6   8.32\n",
       " 4    1.0   7   8.32\n",
       " ..   ...  ..    ...\n",
       " 125  1.0   9  47.31\n",
       " 126  1.0  11  47.31\n",
       " 127  1.0  13  47.31\n",
       " 128  1.0  16  47.31\n",
       " 129  1.0  20  47.31\n",
       " \n",
       " [130 rows x 3 columns],\n",
       "      f_tilde\n",
       " 0     543.04\n",
       " 1     408.10\n",
       " 2     329.83\n",
       " 3     272.80\n",
       " 4     234.27\n",
       " ..       ...\n",
       " 125  1040.97\n",
       " 126   850.95\n",
       " 127   720.31\n",
       " 128   584.99\n",
       " 129   466.74\n",
       " \n",
       " [130 rows x 1 columns])"
      ]
     },
     "execution_count": 19,
     "metadata": {},
     "output_type": "execute_result"
    }
   ],
   "source": [
    "# X: xi = [1,di,vi]\n",
    "# F: fi = Frequence(di,vi)\n",
    "\n",
    "D = DD.flatten()\n",
    "V = VV.flatten()\n",
    "O = np.ones(len(D))\n",
    "FF_tilde = FF\n",
    "F_tilde = FF_tilde.flatten()\n",
    "\n",
    "Dict_X = {\"1\":O,\"d\":D,\"v\":V}\n",
    "df_X = pd.DataFrame(Dict_X)\n",
    "\n",
    "Dict_F_tilde = {\"f_tilde\":F_tilde}\n",
    "df_f_tilde = pd.DataFrame(Dict_F_tilde)\n",
    "\n",
    "df_X,df_f_tilde"
   ]
  },
  {
   "cell_type": "code",
   "execution_count": 20,
   "metadata": {},
   "outputs": [],
   "source": [
    "%matplotlib inline"
   ]
  },
  {
   "cell_type": "code",
   "execution_count": 21,
   "metadata": {},
   "outputs": [
    {
     "data": {
      "image/png": "[encoded data removed]",
      "text/plain": [
       "<Figure size 1080x360 with 1 Axes>"
      ]
     },
     "metadata": {
      "needs_background": "light"
     },
     "output_type": "display_data"
    }
   ],
   "source": [
    "plt.figure(figsize=(15,5))\n",
    "header = df_X.columns.tolist()\n",
    "for h in header:\n",
    "    plt.plot(df_f_tilde,df_X[h],'o',label=h)\n",
    "plt.legend()\n",
    "plt.xlabel(f\"{df_f_tilde.columns[0]}: Frequenz mit maximalem Pegel in Hz\")\n",
    "plt.grid()"
   ]
  },
  {
   "cell_type": "markdown",
   "metadata": {},
   "source": [
    "Angenommen, es existiert ein Modell für $f(d,v)$ mit bekannten Koeffizienten $\\beta_i$, so kann dessen Güte anhand der Abweichungen von mit dem Modell berechneten zu den gemessenen Daten bewertet werden.\n",
    "Diese Abweichungen werden häufig mithilfe der Summe der Fehlerquadrate (normiert mit der Anzahl der Messpunkte $N$) quantifiziert:\n",
    "$$\n",
    "\\frac{1}{N}\\sum_{i=1}^{N}(f(d_i,v_i) - \\tilde{f}_i)^2 = \\frac{1}{N}\\| \\pmb{f} - \\pmb{\\tilde{f}} \\|_2^2\n",
    "$$\n",
    "Dieses Fehlermaß gilt es zu minimieren, um ein Modell möglichst genau an die Messdaten anzunähern.\n",
    "Es wird daher auch als Kosten- oder Verlustfunktion bezeichnet.\n",
    "\n",
    "__3) Schreiben Sie eine Funktion *loss()*, die die normierte Summe der Fehlerquadrate berechnet.__\n",
    "  * Die Funktion soll als Parameter übergeben bekommen:\n",
    "    * einen Koeffizienten-Vektor `beta`\n",
    "    * eine Modell-Matrix `X`\n",
    "    * einen Messwerte-Vektor `f_tilde`\n",
    "  * Rückgabewert soll der berechnete Fehler sein.\n",
    "  * Testen Sie die Funktion mit dem Beispielmodell und `beta = array([1., 1., 1.])`\n",
    "\n",
    "<!--\n",
    "[Multiple lineare Regression](https://de.wikipedia.org/wiki/Multiple_lineare_Regression)\n",
    "-->"
   ]
  },
  {
   "cell_type": "code",
   "execution_count": 22,
   "metadata": {},
   "outputs": [],
   "source": [
    "def loss(beta,X,f_tilde,func_f):\n",
    "    f = func_f(X,beta)\n",
    "    return np.mean((f-f_tilde)**2)"
   ]
  },
  {
   "cell_type": "markdown",
   "metadata": {},
   "source": [
    "Mithilfe eines geeigneten Algorithmus' soll nun der Koeffizientensatz $\\pmb{\\beta}$ gefunden werden, der obige Kostenfunktion minimiert.\n",
    "Praktischerweise sind im Modul [*scipy.optimize*](https://docs.scipy.org/doc/scipy/reference/optimize.html) bereits zahlreiche Minimierungsalgorithmen implementiert, die auf das Problem angewendet werden können.\n",
    "\n",
    "Für den Fall der Mehrfachregression bietet sich die im Modul enthaltene Funktion [*minimize()*](https://docs.scipy.org/doc/scipy/reference/generated/scipy.optimize.minimize.html) an.\n",
    "Wichtig sind hier vor allem die ersten drei Parameter, die ihr übergeben werden können:\n",
    "  * `fun` : die Funktion, deren Ergebnis minimal werden soll (zu übergeben als Objekt _ohne_ Klammern)\n",
    "  * `x0` : Startwerte für die zu ermittelnden Koeffizienten (als Array zu übergeben)\n",
    "  * `args`: weitere Argumente, die die Funktion beim Aufruf erwartet (je nach Parameterliste, als Tupel übergeben)\n",
    "\n",
    "Voraussetzung ist, dass die Argumente der Parameterliste der zu minimierenden Funktion in der Reihenfolge `(x, *args)` erwartet werden, also zunächst die  Koeffizienten, dann weitere Parameter. \n",
    "Dies sollte mit der Funktion *loss()* gegeben sein.\n",
    "\n",
    "Die *minimize()*-Funktion gibt ein [OptimizeResult-Objekt](https://docs.scipy.org/doc/scipy/reference/generated/scipy.optimize.OptimizeResult.html) zurück.\n",
    "Rufen wir die Funktion mit\n",
    "```python\n",
    "result = minimize(...)\n",
    "```\n",
    "auf, können z.B. folgende Eigenschaften abgerufen werden:\n",
    "  * `result.x` : die gefundenen Koeffizienten\n",
    "  * `result.success` : Boolean, der angibt, ob ein Minimum gefunden wurde\n",
    "  * `result.nit` : Anzahl der vom Algorithmus durchgeführten Iterationen\n",
    "\n",
    "\n",
    "__4) Finden Sie ein möglichst simples Modell, dass die Daten möglichst gut beschreibt.__\n",
    "  * Kopieren Sie benötigten Quellcode aus Aufgabe 2) in die nächste Zelle, um das Modell schnell ändern zu können. Aufgabe 2) soll unverändert bleiben.\n",
    "  * Minimieren Sie die Kostenfunktion. Wählen Sie als Startwert für jeden der Koeffizienten 1.\n",
    "  * Suchen Sie Koeffizienten mindestens für folgende Modelle:\n",
    "    *  $f(d,v) = \\beta_0 + \\beta_1\\,d + \\beta_2\\,v + \\epsilon$ \n",
    "    *  $f(d,v) = \\beta_0 + \\beta_1\\,d + \\beta_2\\,v + \\beta_3\\,\\frac{1}{d^2} + \\beta_4\\,\\frac{1}{v^2} + \\epsilon$ \n",
    "    *  $f(d,v) = \\beta_1\\,\\frac{v}{d}  + \\beta_2\\,\\frac{v^3}{d^3} + \\beta_3\\,\\frac{v^5}{d^5}  + \\epsilon$\n",
    "  * Geben Sie die Anzahl der Iterationen, den berechneten Koeffizientensatz und für diesen den Wert der Kostenfunktion aus. Geben Sie außerdem an, ob der Algorithmus das Minimum eindeutig gefunden hat.\n",
    "  * Falls die Minimierung nicht erfolgreich/eindeutig war, versuchen Sie, das Modell zu ändern. Möglicherweise führt auch eine Vereinfachung zum Erfolg.\n",
    "  * Plotten Sie jeweils das gemessene $\\pmb{\\tilde{f}}$ und das sich aus dem Modell ergebende $\\pmb{f}$ in dasselbe Diagramm, um die Abweichung einschätzen zu können."
   ]
  },
  {
   "cell_type": "code",
   "execution_count": 23,
   "metadata": {},
   "outputs": [],
   "source": [
    "def func_f1(X,beta,E=False):\n",
    "    \"\"\"\n",
    "    X=[1,di,vi]: nxd (data points x dimension)\n",
    "    beta:        1x3 (1 x 3)\n",
    "    E:           1xn (1 x data points)\n",
    "    \"\"\"\n",
    "    if E == False:\n",
    "        n,d = X.shape\n",
    "        E = np.zeros((1,n))\n",
    "    return beta@X.T + E"
   ]
  },
  {
   "cell_type": "code",
   "execution_count": 24,
   "metadata": {},
   "outputs": [],
   "source": [
    "def func_f2(X,beta,E=False):\n",
    "    \"\"\"\n",
    "    X=[1,di,vi]: nxd (data points x dimension)\n",
    "    beta:        1x3 (1 x 5)\n",
    "    E:           1xn (1 x data points)\n",
    "    \"\"\"\n",
    "    if E == False:\n",
    "        n,d = X.shape\n",
    "        E = np.zeros((1,n))\n",
    "    return beta[:3]@X.T + beta[3:]@((X[:,1:].T)**(-2.)) + E"
   ]
  },
  {
   "cell_type": "code",
   "execution_count": 25,
   "metadata": {},
   "outputs": [],
   "source": [
    "def func_f3(X,beta,E=False):\n",
    "    \"\"\"\n",
    "    X=[1,di,vi]: nxd (data points x dimension)\n",
    "    beta:        1x3 (1 x 3)\n",
    "    E:           1xn (1 x data points)\n",
    "    \"\"\"\n",
    "    if E == False:\n",
    "        n,d = X.shape\n",
    "        E = np.zeros((1,n))\n",
    "    X_ = np.array([X[:,2]/X[:,1], (X[:,2]/X[:,1])**3, (X[:,2]/X[:,1])**5])\n",
    "    return beta@X_ + E"
   ]
  },
  {
   "cell_type": "code",
   "execution_count": 26,
   "metadata": {},
   "outputs": [],
   "source": [
    "def func_f4(X,beta,E=False):\n",
    "    \"\"\"\n",
    "    X=[1,di,vi]: nxd (data points x dimension)\n",
    "    beta:        1x3 (1 x 2)\n",
    "    E:           1xn (1 x data points)\n",
    "    \"\"\"\n",
    "    if E == False:\n",
    "        n,d = X.shape\n",
    "        E = np.zeros((1,n))\n",
    "    X_ = np.array([X[:,2], (X[:,1])**(-2.)])\n",
    "    return beta@X_ + E"
   ]
  },
  {
   "cell_type": "code",
   "execution_count": 27,
   "metadata": {},
   "outputs": [],
   "source": [
    "def plot_3f_3d(VV,DD,FF_tilde,FF_0,FF_n,colorbar=False):\n",
    "    \n",
    "    F = [FF_tilde,FF_0,FF_n]\n",
    "    L = ['f_tilde (Messdaten)','f_0 (Modell)','f_n (Modell)']\n",
    "    C = ['Greens','Reds','Blues']\n",
    "    \n",
    "    fig = plt.figure(figsize=(10,10))\n",
    "    ax = plt.axes(projection='3d')\n",
    "    \n",
    "    for f,c,l in zip(F,C,L):\n",
    "        S = ax.plot_surface(VV,DD,f,cmap=c,label=l)\n",
    "        S._facecolors2d = S._facecolors3d\n",
    "        S._edgecolors2d = S._edgecolors3d\n",
    "\n",
    "        if colorbar != False:\n",
    "            cbar = fig.colorbar(S)\n",
    "            cbar.set_label(l, rotation=90)\n",
    "        else:\n",
    "            ax.legend(labelcolor=['g','r','b'])\n",
    "        \n",
    "    ax.set_xticks(velocity)\n",
    "    ax.set_yticks(diameter)\n",
    "    ax.set_xlabel(\"Geschwindigkeit in m/s\")\n",
    "    ax.set_ylabel(\"Durchmesser in mm\")\n",
    "    ax.set_title(\"Frequenz mit maximalem Pegel in Hz\");\n",
    "    plt.show()"
   ]
  },
  {
   "cell_type": "code",
   "execution_count": 28,
   "metadata": {},
   "outputs": [],
   "source": [
    "%matplotlib widget"
   ]
  },
  {
   "cell_type": "code",
   "execution_count": 29,
   "metadata": {},
   "outputs": [],
   "source": [
    "def test_minimize(X,f_tilde,beta_0,func):\n",
    "    result = minimize(loss,beta_0,(X,f_tilde,func))\n",
    "    beta_n = result.x\n",
    "    n = result.nit\n",
    "    textspace = ''\n",
    "    if n < 10:\n",
    "        textspace = ' '\n",
    "\n",
    "    F_0 = func(X,beta_0,E=False)       # model with beta_0\n",
    "    FF_0 = F_0.reshape(FF_tilde.shape) # model with beta_0\n",
    "\n",
    "    F_n = func(X,beta_n,E=False)       # model with beta_n\n",
    "    FF_n = F_n.reshape(FF_tilde.shape) # model with beta_n\n",
    "\n",
    "    loss_0 = loss(beta_0,X,f_tilde,func) # loss with beta_0\n",
    "    loss_n = loss(beta_n,X,f_tilde,func) # loss with beta_n\n",
    "    print(f\"Test with {func.__name__}\")\n",
    "    print(f\"Succsess:\\t{result.success}\\nIterations:\\t{n}\\nBeta_0:\\t\\t{beta_0}\\nBeta_{n}:{textspace}\\t{beta_n}\\nLoss_0:\\t\\t{loss_0:.1f}\\nLoss_{n}:{textspace}\\t{loss_n:.1f}\")\n",
    "    plot_3f_3d(VV,DD,FF_tilde,FF_0,FF_n)\n",
    "    plot_3f_3d(VV,DD,FF_tilde,FF_0,FF_n,colorbar=True)"
   ]
  },
  {
   "cell_type": "code",
   "execution_count": 30,
   "metadata": {},
   "outputs": [],
   "source": [
    "X = df_X.values\n",
    "f_tilde = df_f_tilde.values.T"
   ]
  },
  {
   "cell_type": "code",
   "execution_count": 31,
   "metadata": {
    "scrolled": false
   },
   "outputs": [
    {
     "name": "stdout",
     "output_type": "stream",
     "text": [
      "Test with func_f1\n",
      "Succsess:\tFalse\n",
      "Iterations:\t15\n",
      "Beta_0:\t\t[1. 1. 1.]\n",
      "Beta_15:\t[761.57502732 -81.28502166  29.38751619]\n",
      "Loss_0:\t\t1094993.4\n",
      "Loss_15:\t109467.1\n"
     ]
    },
    {
     "data": {
      "application/vnd.jupyter.widget-view+json": {
       "model_id": "ee7573e6092e495fa77d754e2bd4cc9f",
       "version_major": 2,
       "version_minor": 0
      },
      "text/plain": [
       "Canvas(toolbar=Toolbar(toolitems=[('Home', 'Reset original view', 'home', 'home'), ('Back', 'Back to previous …"
      ]
     },
     "metadata": {},
     "output_type": "display_data"
    },
    {
     "data": {
      "application/vnd.jupyter.widget-view+json": {
       "model_id": "ca1b5e8455504d31be8247111c909d9e",
       "version_major": 2,
       "version_minor": 0
      },
      "text/plain": [
       "Canvas(toolbar=Toolbar(toolitems=[('Home', 'Reset original view', 'home', 'home'), ('Back', 'Back to previous …"
      ]
     },
     "metadata": {},
     "output_type": "display_data"
    }
   ],
   "source": [
    "test_minimize(X,f_tilde,np.ones(3),func_f1)"
   ]
  },
  {
   "cell_type": "code",
   "execution_count": 32,
   "metadata": {},
   "outputs": [
    {
     "name": "stdout",
     "output_type": "stream",
     "text": [
      "Test with func_f2\n",
      "Succsess:\tFalse\n",
      "Iterations:\t107\n",
      "Beta_0:\t\t[1. 1. 1. 1. 1.]\n",
      "Beta_107:\t[-4.90610825e+01 -2.99197035e+01  2.93902233e+01  1.11183530e+04\n",
      "  1.06153428e+01]\n",
      "Loss_0:\t\t1094911.4\n",
      "Loss_107:\t51473.2\n"
     ]
    },
    {
     "data": {
      "application/vnd.jupyter.widget-view+json": {
       "model_id": "8e100c948c79476ea3579d0b6a10a33a",
       "version_major": 2,
       "version_minor": 0
      },
      "text/plain": [
       "Canvas(toolbar=Toolbar(toolitems=[('Home', 'Reset original view', 'home', 'home'), ('Back', 'Back to previous …"
      ]
     },
     "metadata": {},
     "output_type": "display_data"
    },
    {
     "data": {
      "application/vnd.jupyter.widget-view+json": {
       "model_id": "df28f4273ad74722b817ff297ac18caf",
       "version_major": 2,
       "version_minor": 0
      },
      "text/plain": [
       "Canvas(toolbar=Toolbar(toolitems=[('Home', 'Reset original view', 'home', 'home'), ('Back', 'Back to previous …"
      ]
     },
     "metadata": {},
     "output_type": "display_data"
    }
   ],
   "source": [
    "test_minimize(X,f_tilde,np.ones(5),func_f2)"
   ]
  },
  {
   "cell_type": "code",
   "execution_count": 33,
   "metadata": {
    "scrolled": false
   },
   "outputs": [
    {
     "name": "stdout",
     "output_type": "stream",
     "text": [
      "Test with func_f3\n",
      "Succsess:\tFalse\n",
      "Iterations:\t10\n",
      "Beta_0:\t\t[1. 1. 1.]\n",
      "Beta_10:\t[ 1.97336471e+02  2.29116127e-03 -1.07780500e-05]\n",
      "Loss_0:\t\t19713694728.5\n",
      "Loss_10:\t13.1\n"
     ]
    },
    {
     "data": {
      "application/vnd.jupyter.widget-view+json": {
       "model_id": "90c7cd71ffbb4e3684f664b5c7705d7a",
       "version_major": 2,
       "version_minor": 0
      },
      "text/plain": [
       "Canvas(toolbar=Toolbar(toolitems=[('Home', 'Reset original view', 'home', 'home'), ('Back', 'Back to previous …"
      ]
     },
     "metadata": {},
     "output_type": "display_data"
    },
    {
     "data": {
      "application/vnd.jupyter.widget-view+json": {
       "model_id": "cc0edd23977b4a1db087cfbc451c3ea4",
       "version_major": 2,
       "version_minor": 0
      },
      "text/plain": [
       "Canvas(toolbar=Toolbar(toolitems=[('Home', 'Reset original view', 'home', 'home'), ('Back', 'Back to previous …"
      ]
     },
     "metadata": {},
     "output_type": "display_data"
    }
   ],
   "source": [
    "test_minimize(X,f_tilde,np.ones(3),func_f3)"
   ]
  },
  {
   "cell_type": "code",
   "execution_count": 34,
   "metadata": {
    "scrolled": false
   },
   "outputs": [
    {
     "name": "stdout",
     "output_type": "stream",
     "text": [
      "Test with func_f3\n",
      "Succsess:\tTrue\n",
      "Iterations:\t5\n",
      "Beta_0:\t\t[0. 0. 0.]\n",
      "Beta_5: \t[ 1.97336470e+02  2.29116728e-03 -1.07780712e-05]\n",
      "Loss_0:\t\t1165948.4\n",
      "Loss_5: \t13.1\n"
     ]
    },
    {
     "data": {
      "application/vnd.jupyter.widget-view+json": {
       "model_id": "51cb23cf315f471a82107b145b350166",
       "version_major": 2,
       "version_minor": 0
      },
      "text/plain": [
       "Canvas(toolbar=Toolbar(toolitems=[('Home', 'Reset original view', 'home', 'home'), ('Back', 'Back to previous …"
      ]
     },
     "metadata": {},
     "output_type": "display_data"
    },
    {
     "data": {
      "application/vnd.jupyter.widget-view+json": {
       "model_id": "596336d53f1e4a919069f0fa3544fbfb",
       "version_major": 2,
       "version_minor": 0
      },
      "text/plain": [
       "Canvas(toolbar=Toolbar(toolitems=[('Home', 'Reset original view', 'home', 'home'), ('Back', 'Back to previous …"
      ]
     },
     "metadata": {},
     "output_type": "display_data"
    }
   ],
   "source": [
    "test_minimize(X,f_tilde,0*np.ones(3),func_f3)"
   ]
  },
  {
   "cell_type": "code",
   "execution_count": 35,
   "metadata": {
    "scrolled": false
   },
   "outputs": [
    {
     "name": "stdout",
     "output_type": "stream",
     "text": [
      "Test with func_f4\n",
      "Succsess:\tFalse\n",
      "Iterations:\t13\n",
      "Beta_0:\t\t[1. 1.]\n",
      "Beta_13:\t[   18.39385381 12947.37248468]\n",
      "Loss_0:\t\t1107357.4\n",
      "Loss_13:\t90699.6\n"
     ]
    },
    {
     "data": {
      "application/vnd.jupyter.widget-view+json": {
       "model_id": "7d746ecc48d243099255f214ad21b39f",
       "version_major": 2,
       "version_minor": 0
      },
      "text/plain": [
       "Canvas(toolbar=Toolbar(toolitems=[('Home', 'Reset original view', 'home', 'home'), ('Back', 'Back to previous …"
      ]
     },
     "metadata": {},
     "output_type": "display_data"
    },
    {
     "data": {
      "application/vnd.jupyter.widget-view+json": {
       "model_id": "f3c2c08a75ad42eb8210a3ccf19c5169",
       "version_major": 2,
       "version_minor": 0
      },
      "text/plain": [
       "Canvas(toolbar=Toolbar(toolitems=[('Home', 'Reset original view', 'home', 'home'), ('Back', 'Back to previous …"
      ]
     },
     "metadata": {},
     "output_type": "display_data"
    }
   ],
   "source": [
    "test_minimize(X,f_tilde,np.ones(2),func_f4)"
   ]
  },
  {
   "cell_type": "markdown",
   "metadata": {},
   "source": [
    "**5) Wenden Sie die das Modell an.**\n",
    "  * Wie hoch ist die Hiebton-Frequenz bei einem Zylinderdurchmesser von 10 mm und einer Strömungsgeschwindigkeit von 20 m/s?\n",
    "  * Wie groß ist der Durchmesser eines Zylinders, der bei 42 m/s Windgeschwindigkeit mit 1000 Hz pfeift?\n",
    "  * Wie groß ist die Strömungsgeschwindigkeit, wenn ein Zylinder mit 30 mm Durchmesser einen Ton bei 300 Hz verursacht?"
   ]
  },
  {
   "cell_type": "code",
   "execution_count": 36,
   "metadata": {},
   "outputs": [
    {
     "data": {
      "text/html": [
       "<div>\n",
       "<style scoped>\n",
       "    .dataframe tbody tr th:only-of-type {\n",
       "        vertical-align: middle;\n",
       "    }\n",
       "\n",
       "    .dataframe tbody tr th {\n",
       "        vertical-align: top;\n",
       "    }\n",
       "\n",
       "    .dataframe thead th {\n",
       "        text-align: right;\n",
       "    }\n",
       "</style>\n",
       "<table border=\"1\" class=\"dataframe\">\n",
       "  <thead>\n",
       "    <tr style=\"text-align: right;\">\n",
       "      <th></th>\n",
       "      <th># v0 in m/s</th>\n",
       "      <th>d=3mm</th>\n",
       "      <th>d=4mm</th>\n",
       "      <th>d=5mm</th>\n",
       "      <th>d=6mm</th>\n",
       "      <th>d=7mm</th>\n",
       "      <th>d=9mm</th>\n",
       "      <th>d=11mm</th>\n",
       "      <th>d=13mm</th>\n",
       "      <th>d=16mm</th>\n",
       "      <th>d=20mm</th>\n",
       "    </tr>\n",
       "  </thead>\n",
       "  <tbody>\n",
       "    <tr>\n",
       "      <th>0</th>\n",
       "      <td>8.32</td>\n",
       "      <td>543.04</td>\n",
       "      <td>408.10</td>\n",
       "      <td>329.83</td>\n",
       "      <td>272.8</td>\n",
       "      <td>234.27</td>\n",
       "      <td>184.14</td>\n",
       "      <td>149.89</td>\n",
       "      <td>125.13</td>\n",
       "      <td>101.42</td>\n",
       "      <td>81.67</td>\n",
       "    </tr>\n",
       "    <tr>\n",
       "      <th>1</th>\n",
       "      <td>10.73</td>\n",
       "      <td>702.87</td>\n",
       "      <td>522.33</td>\n",
       "      <td>425.56</td>\n",
       "      <td>351.7</td>\n",
       "      <td>297.68</td>\n",
       "      <td>234.59</td>\n",
       "      <td>190.87</td>\n",
       "      <td>163.48</td>\n",
       "      <td>132.67</td>\n",
       "      <td>105.90</td>\n",
       "    </tr>\n",
       "    <tr>\n",
       "      <th>2</th>\n",
       "      <td>14.10</td>\n",
       "      <td>914.43</td>\n",
       "      <td>689.08</td>\n",
       "      <td>552.86</td>\n",
       "      <td>463.0</td>\n",
       "      <td>400.17</td>\n",
       "      <td>307.89</td>\n",
       "      <td>254.11</td>\n",
       "      <td>215.73</td>\n",
       "      <td>173.16</td>\n",
       "      <td>138.90</td>\n",
       "    </tr>\n",
       "    <tr>\n",
       "      <th>3</th>\n",
       "      <td>18.69</td>\n",
       "      <td>1210.97</td>\n",
       "      <td>918.65</td>\n",
       "      <td>740.07</td>\n",
       "      <td>614.7</td>\n",
       "      <td>524.51</td>\n",
       "      <td>411.06</td>\n",
       "      <td>337.24</td>\n",
       "      <td>284.78</td>\n",
       "      <td>230.46</td>\n",
       "      <td>185.08</td>\n",
       "    </tr>\n",
       "    <tr>\n",
       "      <th>4</th>\n",
       "      <td>22.10</td>\n",
       "      <td>1446.13</td>\n",
       "      <td>1087.37</td>\n",
       "      <td>881.73</td>\n",
       "      <td>727.2</td>\n",
       "      <td>622.21</td>\n",
       "      <td>483.80</td>\n",
       "      <td>397.48</td>\n",
       "      <td>336.60</td>\n",
       "      <td>274.14</td>\n",
       "      <td>217.86</td>\n",
       "    </tr>\n",
       "    <tr>\n",
       "      <th>5</th>\n",
       "      <td>25.06</td>\n",
       "      <td>1638.99</td>\n",
       "      <td>1231.13</td>\n",
       "      <td>992.45</td>\n",
       "      <td>825.0</td>\n",
       "      <td>710.41</td>\n",
       "      <td>548.76</td>\n",
       "      <td>449.56</td>\n",
       "      <td>381.22</td>\n",
       "      <td>308.65</td>\n",
       "      <td>247.42</td>\n",
       "    </tr>\n",
       "    <tr>\n",
       "      <th>6</th>\n",
       "      <td>29.76</td>\n",
       "      <td>1962.34</td>\n",
       "      <td>1462.56</td>\n",
       "      <td>1177.07</td>\n",
       "      <td>980.2</td>\n",
       "      <td>843.65</td>\n",
       "      <td>651.46</td>\n",
       "      <td>537.05</td>\n",
       "      <td>452.85</td>\n",
       "      <td>367.34</td>\n",
       "      <td>295.30</td>\n",
       "    </tr>\n",
       "    <tr>\n",
       "      <th>7</th>\n",
       "      <td>34.00</td>\n",
       "      <td>2236.47</td>\n",
       "      <td>1677.31</td>\n",
       "      <td>1341.23</td>\n",
       "      <td>1120.1</td>\n",
       "      <td>957.86</td>\n",
       "      <td>745.89</td>\n",
       "      <td>610.97</td>\n",
       "      <td>518.58</td>\n",
       "      <td>420.16</td>\n",
       "      <td>336.71</td>\n",
       "    </tr>\n",
       "    <tr>\n",
       "      <th>8</th>\n",
       "      <td>37.25</td>\n",
       "      <td>2447.92</td>\n",
       "      <td>1841.72</td>\n",
       "      <td>1471.93</td>\n",
       "      <td>1227.6</td>\n",
       "      <td>1055.76</td>\n",
       "      <td>819.18</td>\n",
       "      <td>666.91</td>\n",
       "      <td>566.73</td>\n",
       "      <td>460.14</td>\n",
       "      <td>369.54</td>\n",
       "    </tr>\n",
       "    <tr>\n",
       "      <th>9</th>\n",
       "      <td>40.95</td>\n",
       "      <td>2694.82</td>\n",
       "      <td>2026.79</td>\n",
       "      <td>1621.68</td>\n",
       "      <td>1349.7</td>\n",
       "      <td>1154.95</td>\n",
       "      <td>899.34</td>\n",
       "      <td>736.58</td>\n",
       "      <td>621.65</td>\n",
       "      <td>510.68</td>\n",
       "      <td>405.74</td>\n",
       "    </tr>\n",
       "    <tr>\n",
       "      <th>10</th>\n",
       "      <td>44.07</td>\n",
       "      <td>2892.18</td>\n",
       "      <td>2169.96</td>\n",
       "      <td>1742.79</td>\n",
       "      <td>1452.6</td>\n",
       "      <td>1243.99</td>\n",
       "      <td>965.24</td>\n",
       "      <td>789.57</td>\n",
       "      <td>670.82</td>\n",
       "      <td>544.51</td>\n",
       "      <td>436.51</td>\n",
       "    </tr>\n",
       "    <tr>\n",
       "      <th>11</th>\n",
       "      <td>45.42</td>\n",
       "      <td>2988.94</td>\n",
       "      <td>2249.23</td>\n",
       "      <td>1788.50</td>\n",
       "      <td>1497.1</td>\n",
       "      <td>1284.97</td>\n",
       "      <td>996.56</td>\n",
       "      <td>815.28</td>\n",
       "      <td>692.82</td>\n",
       "      <td>559.41</td>\n",
       "      <td>449.39</td>\n",
       "    </tr>\n",
       "    <tr>\n",
       "      <th>12</th>\n",
       "      <td>47.31</td>\n",
       "      <td>3112.06</td>\n",
       "      <td>2343.26</td>\n",
       "      <td>1864.81</td>\n",
       "      <td>1559.2</td>\n",
       "      <td>1337.72</td>\n",
       "      <td>1040.97</td>\n",
       "      <td>850.95</td>\n",
       "      <td>720.31</td>\n",
       "      <td>584.99</td>\n",
       "      <td>466.74</td>\n",
       "    </tr>\n",
       "  </tbody>\n",
       "</table>\n",
       "</div>"
      ],
      "text/plain": [
       "    # v0 in m/s    d=3mm    d=4mm    d=5mm   d=6mm    d=7mm    d=9mm  d=11mm  \\\n",
       "0          8.32   543.04   408.10   329.83   272.8   234.27   184.14  149.89   \n",
       "1         10.73   702.87   522.33   425.56   351.7   297.68   234.59  190.87   \n",
       "2         14.10   914.43   689.08   552.86   463.0   400.17   307.89  254.11   \n",
       "3         18.69  1210.97   918.65   740.07   614.7   524.51   411.06  337.24   \n",
       "4         22.10  1446.13  1087.37   881.73   727.2   622.21   483.80  397.48   \n",
       "5         25.06  1638.99  1231.13   992.45   825.0   710.41   548.76  449.56   \n",
       "6         29.76  1962.34  1462.56  1177.07   980.2   843.65   651.46  537.05   \n",
       "7         34.00  2236.47  1677.31  1341.23  1120.1   957.86   745.89  610.97   \n",
       "8         37.25  2447.92  1841.72  1471.93  1227.6  1055.76   819.18  666.91   \n",
       "9         40.95  2694.82  2026.79  1621.68  1349.7  1154.95   899.34  736.58   \n",
       "10        44.07  2892.18  2169.96  1742.79  1452.6  1243.99   965.24  789.57   \n",
       "11        45.42  2988.94  2249.23  1788.50  1497.1  1284.97   996.56  815.28   \n",
       "12        47.31  3112.06  2343.26  1864.81  1559.2  1337.72  1040.97  850.95   \n",
       "\n",
       "    d=13mm  d=16mm  d=20mm  \n",
       "0   125.13  101.42   81.67  \n",
       "1   163.48  132.67  105.90  \n",
       "2   215.73  173.16  138.90  \n",
       "3   284.78  230.46  185.08  \n",
       "4   336.60  274.14  217.86  \n",
       "5   381.22  308.65  247.42  \n",
       "6   452.85  367.34  295.30  \n",
       "7   518.58  420.16  336.71  \n",
       "8   566.73  460.14  369.54  \n",
       "9   621.65  510.68  405.74  \n",
       "10  670.82  544.51  436.51  \n",
       "11  692.82  559.41  449.39  \n",
       "12  720.31  584.99  466.74  "
      ]
     },
     "execution_count": 36,
     "metadata": {},
     "output_type": "execute_result"
    }
   ],
   "source": [
    "df_HA5"
   ]
  },
  {
   "cell_type": "code",
   "execution_count": 37,
   "metadata": {},
   "outputs": [
    {
     "name": "stdout",
     "output_type": "stream",
     "text": [
      "v in m/s:\t[8.32, 10.73, 14.1, 18.69, 22.1, 25.06, 29.76, 34.0, 37.25, 40.95, 44.07, 45.42, 47.31]\n",
      "d in mm:\t[3, 4, 5, 6, 7, 9, 11, 13, 16, 20]\n"
     ]
    }
   ],
   "source": [
    "print(f\"v in m/s:\\t{velocity}\\nd in mm:\\t{diameter}\")"
   ]
  },
  {
   "cell_type": "code",
   "execution_count": 38,
   "metadata": {},
   "outputs": [],
   "source": [
    "# Daten\n",
    "X = df_X.values\n",
    "f_tilde = df_f_tilde.values.T\n",
    "beta_0 = np.ones(3)\n",
    "func = func_f3\n",
    "result = minimize(loss,beta_0,(X,f_tilde,func))\n",
    "beta_n = result.x"
   ]
  },
  {
   "cell_type": "code",
   "execution_count": 39,
   "metadata": {},
   "outputs": [],
   "source": [
    "def f_dv(d,v,d_0,v_0,func,beta):\n",
    "    \"\"\"\n",
    "    diameter,velocity --> frequence\n",
    "    args:\n",
    "        d:      diameter in mm\n",
    "        v:      velocity in m/s\n",
    "        d_0:    diameters from measurement (valid range for d)\n",
    "        v_0:    velocities from measurement (valid range for v)\n",
    "        func:   function of regression\n",
    "        beta_n: beta from minimize()\n",
    "    retrun:\n",
    "        frequence in Hz\n",
    "    \"\"\"\n",
    "    if d > max(d_0) or d < min(d_0):\n",
    "        raise Exception('d is out of range')\n",
    "    \n",
    "    if v > max(v_0) or v < min(v_0):\n",
    "        raise Exception('v is out of range')\n",
    "    \n",
    "    X = np.array([[1,d,v]])\n",
    "    return func(X,beta)"
   ]
  },
  {
   "cell_type": "code",
   "execution_count": 40,
   "metadata": {},
   "outputs": [
    {
     "name": "stdout",
     "output_type": "stream",
     "text": [
      "f(d=10mm, v=20m/s) = 394.691Hz\n"
     ]
    }
   ],
   "source": [
    "# Test of f_dv(): diameter,velocity --> frequence\n",
    "d = 10\n",
    "v = 20\n",
    "f = f_dv(d,v,diameter,velocity,func,beta_n)\n",
    "print(f\"f(d={d}mm, v={v}m/s) = {f[0][0]:.3f}Hz\")"
   ]
  },
  {
   "cell_type": "code",
   "execution_count": 41,
   "metadata": {},
   "outputs": [],
   "source": [
    "def d_fv(f,v,d_0,v_0,func,beta_n):\n",
    "    \"\"\"\n",
    "    frequence,velocity --> diameter\n",
    "    args:\n",
    "        f:      frequence in Hz\n",
    "        v:      velocity in m/s\n",
    "        d_0:    diameters from measurement (valid range for d)\n",
    "        v_0:    velocities from measurement (valid range for v)\n",
    "        func:   function of regression\n",
    "        beta_n: beta from minimize()\n",
    "    retrun:\n",
    "        diameter in mm\n",
    "        new list of diameters for the iteration\n",
    "    \"\"\"\n",
    "    if v > max(v_0) or v < min(v_0):\n",
    "        raise Exception('v is out of range')\n",
    "\n",
    "    O = np.ones(len(d_0))\n",
    "    D = d_0\n",
    "    V = [v]*len(d_0)\n",
    "    X = np.array([O,D,V]).T\n",
    "    F = func(X,beta_n)[0]\n",
    "\n",
    "    if f > max(F) or f < min(F):\n",
    "        raise Exception('f is out of range')\n",
    "\n",
    "    if f in F:\n",
    "        index = np.where(F==f)\n",
    "        return D[index[0][0]], None\n",
    "\n",
    "    index = indexbefore(F,f)\n",
    "    return ratio(D[index+1],D[index],F[index+1],f,F[index]), np.linspace(D[index+1],D[index],5)"
   ]
  },
  {
   "cell_type": "code",
   "execution_count": 42,
   "metadata": {},
   "outputs": [],
   "source": [
    "def d_fv_iter(f,v,diameter,velocity,tol=1e-3):\n",
    "    \"\"\"\n",
    "    auxiliary iteration-function for d_fv()\n",
    "    iteration is necessary, because of the non-linearity of the function\n",
    "    \"\"\"\n",
    "    d,dnew = d_fv(f,v,diameter,velocity,func,beta_n)\n",
    "    n = 0\n",
    "    while type(dnew) != 'NoneType' and abs(f_dv(d,v,dnew,velocity,func,beta_n)[0][0]-f) > tol:\n",
    "        n += 1\n",
    "        d,dnew = d_fv(f,v,dnew,velocity,func,beta_n)\n",
    "    return d,n  "
   ]
  },
  {
   "cell_type": "code",
   "execution_count": 43,
   "metadata": {},
   "outputs": [],
   "source": [
    "# Test of d_fv(): frequence,velocity --> diameter\n",
    "f = 1000\n",
    "v = 42\n",
    "#f = 500\n",
    "#v = 8.32\n",
    "tol = 1e-4"
   ]
  },
  {
   "cell_type": "code",
   "execution_count": 44,
   "metadata": {},
   "outputs": [
    {
     "name": "stdout",
     "output_type": "stream",
     "text": [
      "d(f=1000Hz, v=42m/s) = 8.401mm\n",
      "f_ist=  986.83889Hz\n",
      "f_soll= 1000.00000Hz\n",
      "Ohne Iteration ist die Abweichung -13.161\n"
     ]
    }
   ],
   "source": [
    "d,d0 = d_fv(f,v,diameter,velocity,func,beta_n)\n",
    "print(f\"d(f={f}Hz, v={v}m/s) = {d:.3f}mm\")\n",
    "X = np.array([[1,d,v]])\n",
    "print(f\"f_ist=  {f_dv(d,v,diameter,velocity,func,beta_n)[0][0]:.5f}Hz\\nf_soll= {f:.5f}Hz\")\n",
    "print(f\"Ohne Iteration ist die Abweichung {f_dv(d,v,diameter,velocity,func,beta_n)[0][0]-f:.5}\")"
   ]
  },
  {
   "cell_type": "code",
   "execution_count": 45,
   "metadata": {},
   "outputs": [
    {
     "name": "stdout",
     "output_type": "stream",
     "text": [
      "d(f=1000Hz, v=42m/s) = 8.290mm\n",
      "f_ist=  999.99999Hz\n",
      "f_soll= 1000.00000Hz\n",
      "Nach 5 Iterationen ist die Abweichung < 0.0001\n"
     ]
    }
   ],
   "source": [
    "d,n = d_fv_iter(f,v,diameter,velocity,tol)\n",
    "print(f\"d(f={f}Hz, v={v}m/s) = {d:.3f}mm\")\n",
    "print(f\"f_ist=  {f_dv(d,v,diameter,velocity,func,beta_n)[0][0]:.5f}Hz\\nf_soll= {f:.5f}Hz\")\n",
    "print(f\"Nach {n} Iterationen ist die Abweichung < {tol}\")"
   ]
  },
  {
   "cell_type": "code",
   "execution_count": 46,
   "metadata": {},
   "outputs": [],
   "source": [
    "def v_fd(f,d,d_0,v_0,func,beta_n):\n",
    "    \"\"\"\n",
    "    frequence,diameter --> velocity\n",
    "    args:\n",
    "        f:      frequence in Hz\n",
    "        d:      diameter in mm\n",
    "        d_0:    diameters from measurement (valid range for d)\n",
    "        v_0:    velocities from measurement (valid range for v)\n",
    "        func:   function of regression\n",
    "        beta_n: beta from minimize()\n",
    "    retrun:\n",
    "        velocity in m/s\n",
    "    \"\"\"\n",
    "    if d > max(d_0) or d < min(d_0):\n",
    "        raise Exception('d is out of range')\n",
    "\n",
    "    O = np.ones(len(v_0))\n",
    "    D = [d]*len(v_0)\n",
    "    V = v_0\n",
    "    X = np.array([O,D,V]).T\n",
    "    F = func(X,beta_n)[0]\n",
    "\n",
    "    if f in F:\n",
    "        index = np.where(F==f)\n",
    "        return V[index[0][0]]\n",
    "\n",
    "    if f > max(F) or f < min(F):\n",
    "        raise Exception('f is out of range')\n",
    "\n",
    "    index = indexbefore(F,f)\n",
    "    return ratio(V[index+1],V[index],F[index+1],f,F[index])"
   ]
  },
  {
   "cell_type": "code",
   "execution_count": 47,
   "metadata": {},
   "outputs": [
    {
     "ename": "Exception",
     "evalue": "d is out of range",
     "output_type": "error",
     "traceback": [
      "\u001b[1;31m---------------------------------------------------------------------------\u001b[0m",
      "\u001b[1;31mException\u001b[0m                                 Traceback (most recent call last)",
      "\u001b[1;32m<ipython-input-47-2185ddc766dd>\u001b[0m in \u001b[0;36m<module>\u001b[1;34m\u001b[0m\n\u001b[0;32m      4\u001b[0m \u001b[1;31m#f = 1500\u001b[0m\u001b[1;33m\u001b[0m\u001b[1;33m\u001b[0m\u001b[1;33m\u001b[0m\u001b[0m\n\u001b[0;32m      5\u001b[0m \u001b[1;31m#d = 5.5\u001b[0m\u001b[1;33m\u001b[0m\u001b[1;33m\u001b[0m\u001b[1;33m\u001b[0m\u001b[0m\n\u001b[1;32m----> 6\u001b[1;33m \u001b[0mv\u001b[0m \u001b[1;33m=\u001b[0m \u001b[0mv_fd\u001b[0m\u001b[1;33m(\u001b[0m\u001b[0mf\u001b[0m\u001b[1;33m,\u001b[0m\u001b[0md\u001b[0m\u001b[1;33m,\u001b[0m\u001b[0mdiameter\u001b[0m\u001b[1;33m,\u001b[0m\u001b[0mvelocity\u001b[0m\u001b[1;33m,\u001b[0m\u001b[0mfunc\u001b[0m\u001b[1;33m,\u001b[0m\u001b[0mbeta_n\u001b[0m\u001b[1;33m)\u001b[0m\u001b[1;33m\u001b[0m\u001b[1;33m\u001b[0m\u001b[0m\n\u001b[0m\u001b[0;32m      7\u001b[0m \u001b[0mprint\u001b[0m\u001b[1;33m(\u001b[0m\u001b[1;34mf\"v(f={f}Hz, d={d}mm) = {v:.3f}m/s\"\u001b[0m\u001b[1;33m)\u001b[0m\u001b[1;33m\u001b[0m\u001b[1;33m\u001b[0m\u001b[0m\n\u001b[0;32m      8\u001b[0m \u001b[0mX\u001b[0m \u001b[1;33m=\u001b[0m \u001b[0mnp\u001b[0m\u001b[1;33m.\u001b[0m\u001b[0marray\u001b[0m\u001b[1;33m(\u001b[0m\u001b[1;33m[\u001b[0m\u001b[1;33m[\u001b[0m\u001b[1;36m1\u001b[0m\u001b[1;33m,\u001b[0m\u001b[0md\u001b[0m\u001b[1;33m,\u001b[0m\u001b[0mv\u001b[0m\u001b[1;33m]\u001b[0m\u001b[1;33m]\u001b[0m\u001b[1;33m)\u001b[0m\u001b[1;33m\u001b[0m\u001b[1;33m\u001b[0m\u001b[0m\n",
      "\u001b[1;32m<ipython-input-46-c003a3d455a7>\u001b[0m in \u001b[0;36mv_fd\u001b[1;34m(f, d, d_0, v_0, func, beta_n)\u001b[0m\n\u001b[0;32m     13\u001b[0m     \"\"\"\n\u001b[0;32m     14\u001b[0m     \u001b[1;32mif\u001b[0m \u001b[0md\u001b[0m \u001b[1;33m>\u001b[0m \u001b[0mmax\u001b[0m\u001b[1;33m(\u001b[0m\u001b[0md_0\u001b[0m\u001b[1;33m)\u001b[0m \u001b[1;32mor\u001b[0m \u001b[0md\u001b[0m \u001b[1;33m<\u001b[0m \u001b[0mmin\u001b[0m\u001b[1;33m(\u001b[0m\u001b[0md_0\u001b[0m\u001b[1;33m)\u001b[0m\u001b[1;33m:\u001b[0m\u001b[1;33m\u001b[0m\u001b[1;33m\u001b[0m\u001b[0m\n\u001b[1;32m---> 15\u001b[1;33m         \u001b[1;32mraise\u001b[0m \u001b[0mException\u001b[0m\u001b[1;33m(\u001b[0m\u001b[1;34m'd is out of range'\u001b[0m\u001b[1;33m)\u001b[0m\u001b[1;33m\u001b[0m\u001b[1;33m\u001b[0m\u001b[0m\n\u001b[0m\u001b[0;32m     16\u001b[0m \u001b[1;33m\u001b[0m\u001b[0m\n\u001b[0;32m     17\u001b[0m     \u001b[0mO\u001b[0m \u001b[1;33m=\u001b[0m \u001b[0mnp\u001b[0m\u001b[1;33m.\u001b[0m\u001b[0mones\u001b[0m\u001b[1;33m(\u001b[0m\u001b[0mlen\u001b[0m\u001b[1;33m(\u001b[0m\u001b[0mv_0\u001b[0m\u001b[1;33m)\u001b[0m\u001b[1;33m)\u001b[0m\u001b[1;33m\u001b[0m\u001b[1;33m\u001b[0m\u001b[0m\n",
      "\u001b[1;31mException\u001b[0m: d is out of range"
     ]
    }
   ],
   "source": [
    "# Test of v_fd(): frequence,diameter --> velocity\n",
    "f = 300\n",
    "d = 30\n",
    "#f = 1500\n",
    "#d = 5.5\n",
    "v = v_fd(f,d,diameter,velocity,func,beta_n)\n",
    "print(f\"v(f={f}Hz, d={d}mm) = {v:.3f}m/s\")\n",
    "X = np.array([[1,d,v]])\n",
    "print(f\"f_ist=  {f_dv(d,v,diameter,velocity,func,beta_n)[0][0]:.5f}Hz\\nf_soll= {f:.5f}Hz\")\n",
    "print(f\"Ohne Iteration ist die Abweichung {f_dv(d,v,diameter,velocity,func,beta_n)[0][0]-f:.5}\")"
   ]
  },
  {
   "cell_type": "code",
   "execution_count": null,
   "metadata": {},
   "outputs": [],
   "source": []
  }
 ],
 "metadata": {
  "kernelspec": {
   "display_name": "Python 3",
   "language": "python",
   "name": "python3"
  },
  "language_info": {
   "codemirror_mode": {
    "name": "ipython",
    "version": 3
   },
   "file_extension": ".py",
   "mimetype": "text/x-python",
   "name": "python",
   "nbconvert_exporter": "python",
   "pygments_lexer": "ipython3",
   "version": "3.8.5"
  }
 },
 "nbformat": 4,
 "nbformat_minor": 4
}
