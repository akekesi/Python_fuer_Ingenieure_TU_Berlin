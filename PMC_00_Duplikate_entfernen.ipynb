{
 "cells": [
  {
   "cell_type": "markdown",
   "metadata": {},
   "source": [
    "# $$\\textbf{Python Mini Challenge} $$ \n",
    "## $$\\text{PMC_00 - Duplikate entfernen}$$\n",
    "### $$\\text{Py_Ing - SoSe21}$$\n",
    "\n",
    "<center>"
   ]
  },
  {
   "cell_type": "markdown",
   "metadata": {},
   "source": [
    "# Aufgabe:  \n",
    "**Schreiben Sie eine Funktion, die aus einer Liste alle Duplikate entfernt und die reduzierte Liste zurückgibt!**\n",
    "\n",
    "Beispiel:\n",
    "\n",
    "Eingabe: [1,1,1,1,1,1,1,1,2,2,2,2,1,3,2,3,4,4,4,4,4,5,2,5,3,5,5]\n",
    "\n",
    "Ausgabe: [1,2,3,4,5]"
   ]
  },
  {
   "cell_type": "code",
   "execution_count": 1,
   "metadata": {},
   "outputs": [],
   "source": [
    "def dublikate_entfernen1(L):\n",
    "    \"\"\"\n",
    "    Return Liste ohne Duplikate\n",
    "    Args:\n",
    "        Liste\n",
    "    Returns:\n",
    "        Liste ohne Duplikate\n",
    "    \"\"\"\n",
    "    E = [L[0]]\n",
    "    for i in range(len(L)):\n",
    "        for j in range(len(E)):\n",
    "            if L[i] == E[j]:\n",
    "                break\n",
    "            if L[i] != E[j] and j == len(E)-1:\n",
    "                E.append(L[i])\n",
    "    return E"
   ]
  },
  {
   "cell_type": "code",
   "execution_count": 2,
   "metadata": {},
   "outputs": [
    {
     "name": "stdout",
     "output_type": "stream",
     "text": [
      "[1, 2, 3, 4, 5]\n",
      "[1, '1', 2]\n"
     ]
    }
   ],
   "source": [
    "L1 = [1,1,1,1,1,1,1,1,2,2,2,2,1,3,2,3,4,4,4,4,4,5,2,5,3,5,5]\n",
    "L2 = [1,'1','1',2,1,'1']\n",
    "print(dublikate_entfernen1(L1))\n",
    "print(dublikate_entfernen1(L2))"
   ]
  },
  {
   "cell_type": "code",
   "execution_count": 3,
   "metadata": {},
   "outputs": [],
   "source": [
    "def dublikate_entfernen2(L):\n",
    "    \"\"\"\n",
    "    Return Liste ohne Duplikate\n",
    "    Args:\n",
    "        Liste\n",
    "    Returns:\n",
    "        Liste ohne Duplikate\n",
    "    \"\"\"\n",
    "    E = []\n",
    "    for l in L:\n",
    "        if l in E:\n",
    "            pass\n",
    "        else:\n",
    "            E.append(l)\n",
    "    return E"
   ]
  },
  {
   "cell_type": "code",
   "execution_count": 4,
   "metadata": {},
   "outputs": [
    {
     "name": "stdout",
     "output_type": "stream",
     "text": [
      "[1, 2, 3, 4, 5]\n",
      "[1, '1', 2]\n"
     ]
    }
   ],
   "source": [
    "L1 = [1,1,1,1,1,1,1,1,2,2,2,2,1,3,2,3,4,4,4,4,4,5,2,5,3,5,5]\n",
    "L2 = [1,'1','1',2,1,'1']\n",
    "print(dublikate_entfernen2(L1))\n",
    "print(dublikate_entfernen2(L2))"
   ]
  },
  {
   "cell_type": "code",
   "execution_count": 5,
   "metadata": {},
   "outputs": [],
   "source": [
    "def dublikate_entfernen3(L):\n",
    "    \"\"\"\n",
    "    Return Liste ohne Duplikate\n",
    "    Args:\n",
    "        Liste\n",
    "    Returns:\n",
    "        Liste ohne Duplikate\n",
    "    \"\"\"\n",
    "    E = set(L)\n",
    "    return list(E)"
   ]
  },
  {
   "cell_type": "code",
   "execution_count": 6,
   "metadata": {},
   "outputs": [
    {
     "name": "stdout",
     "output_type": "stream",
     "text": [
      "[1, 2, 3, 4, 5]\n",
      "[1, '1', 2]\n"
     ]
    }
   ],
   "source": [
    "L1 = [1,1,1,1,1,1,1,1,2,2,2,2,1,3,2,3,4,4,4,4,4,5,2,5,3,5,5]\n",
    "L2 = [1,'1','1',2,1,'1']\n",
    "print(dublikate_entfernen3(L1))\n",
    "print(dublikate_entfernen3(L2))"
   ]
  },
  {
   "cell_type": "code",
   "execution_count": null,
   "metadata": {},
   "outputs": [],
   "source": []
  }
 ],
 "metadata": {
  "kernelspec": {
   "display_name": "Python 3",
   "language": "python",
   "name": "python3"
  },
  "language_info": {
   "codemirror_mode": {
    "name": "ipython",
    "version": 3
   },
   "file_extension": ".py",
   "mimetype": "text/x-python",
   "name": "python",
   "nbconvert_exporter": "python",
   "pygments_lexer": "ipython3",
   "version": "3.8.5"
  }
 },
 "nbformat": 4,
 "nbformat_minor": 4
}
