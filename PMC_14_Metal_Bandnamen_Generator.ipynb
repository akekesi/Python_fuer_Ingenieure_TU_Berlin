{
 "cells": [
  {
   "cell_type": "markdown",
   "metadata": {},
   "source": [
    "# $$\\textbf{Python Mini Challenge} $$ \n",
    "## $$\\text{PMC_14 - Metal-Bandnamen-Generator}$$\n",
    "### $$\\text{Py_Ing - SoSe21}$$\n",
    "\n",
    "<center>"
   ]
  },
  {
   "cell_type": "markdown",
   "metadata": {},
   "source": [
    "# Aufgabe:  \n",
    "**Schreiben Sie eine Funktion MetalBandnamenGenerator, die in einem String mittels List Comprehension alle a durch ä, alle o durch ö und alle u durch ü ersetzt.**\n",
    "\n",
    "Beispiel:\n",
    "\n",
    "Motorhead --> Mötörheäd"
   ]
  },
  {
   "cell_type": "code",
   "execution_count": 1,
   "metadata": {},
   "outputs": [],
   "source": [
    "def MBG(text):\n",
    "    \"\"\"\n",
    "    Args:\n",
    "        text: string\n",
    "    Returns:\n",
    "        band: string,\n",
    "              a-->ä\n",
    "              o-->ö\n",
    "              u-->ü\n",
    "    \"\"\"\n",
    "    Dict = {\"a\":\"ä\",\"o\":\"ö\",\"u\":\"ü\",\"A\":\"Ä\",\"O\":\"Ö\",\"U\":\"Ü\"}\n",
    "    band = [(t if t not in Dict.keys() else Dict[t]) for t in text]\n",
    "    s = \"\"\n",
    "    return s.join(band)"
   ]
  },
  {
   "cell_type": "code",
   "execution_count": 2,
   "metadata": {},
   "outputs": [
    {
     "name": "stdout",
     "output_type": "stream",
     "text": [
      "Mötörheäd\n",
      "Pythön Mini Chällenge Gäng\n"
     ]
    }
   ],
   "source": [
    "# Test\n",
    "text = [\"Motorhead\",\"Python Mini Challenge Gang\"]\n",
    "for t in text:\n",
    "    print(MBG(t))"
   ]
  },
  {
   "cell_type": "code",
   "execution_count": null,
   "metadata": {},
   "outputs": [],
   "source": []
  }
 ],
 "metadata": {
  "kernelspec": {
   "display_name": "Python 3",
   "language": "python",
   "name": "python3"
  },
  "language_info": {
   "codemirror_mode": {
    "name": "ipython",
    "version": 3
   },
   "file_extension": ".py",
   "mimetype": "text/x-python",
   "name": "python",
   "nbconvert_exporter": "python",
   "pygments_lexer": "ipython3",
   "version": "3.8.5"
  }
 },
 "nbformat": 4,
 "nbformat_minor": 4
}
