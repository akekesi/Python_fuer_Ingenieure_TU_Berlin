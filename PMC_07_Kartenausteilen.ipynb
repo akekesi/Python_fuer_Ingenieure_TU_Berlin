{
 "cells": [
  {
   "cell_type": "markdown",
   "metadata": {},
   "source": [
    "# $$\\textbf{Python Mini Challenge} $$ \n",
    "## $$\\text{PMC_07 - Kartenausteilen}$$\n",
    "### $$\\text{Py_Ing - SoSe21}$$\n",
    "\n",
    "<center>"
   ]
  },
  {
   "cell_type": "markdown",
   "metadata": {},
   "source": [
    "# Aufgabe:  \n",
    "**Schreiben Sie eine Funktion, die berechnet und zurückgibt, wie viele Karten übrig bleiben, wenn sie 52 Karten gleichmäßig auf n Spieler verteilen (n ist Argument der Funktion)!**"
   ]
  },
  {
   "cell_type": "code",
   "execution_count": 1,
   "metadata": {},
   "outputs": [],
   "source": [
    "def kartenrest(n):\n",
    "    \"\"\"\n",
    "    Return Anzahl der ueblichgebliebene Karten nach n-gleichmaessige austeilung\n",
    "    Args:\n",
    "        n: Laenge > 0\n",
    "    Retruns:\n",
    "        rest: Anzahl der ueblichgebliebene Karten nach n-gleichmaessige austeilung\n",
    "    \"\"\"\n",
    "    k = 52\n",
    "    if n == 0:\n",
    "        return k\n",
    "    else:\n",
    "        return 52%n"
   ]
  },
  {
   "cell_type": "code",
   "execution_count": 2,
   "metadata": {},
   "outputs": [
    {
     "name": "stdout",
     "output_type": "stream",
     "text": [
      "n= 0:\tRest=52\n",
      "n= 1:\tRest= 0\n",
      "n= 2:\tRest= 0\n",
      "n= 3:\tRest= 1\n",
      "n= 5:\tRest= 2\n",
      "n=10:\tRest= 2\n",
      "n=12:\tRest= 4\n",
      "n=13:\tRest= 0\n",
      "n=15:\tRest= 7\n",
      "n=52:\tRest= 0\n"
     ]
    }
   ],
   "source": [
    "# Test\n",
    "N = [0,1,2,3,5,10,12,13,15,52]\n",
    "for n in N:\n",
    "    rest = kartenrest(n)\n",
    "    print(f'n={n:2.0f}:\\tRest={rest:2.0f}')"
   ]
  },
  {
   "cell_type": "code",
   "execution_count": null,
   "metadata": {},
   "outputs": [],
   "source": []
  }
 ],
 "metadata": {
  "kernelspec": {
   "display_name": "Python 3",
   "language": "python",
   "name": "python3"
  },
  "language_info": {
   "codemirror_mode": {
    "name": "ipython",
    "version": 3
   },
   "file_extension": ".py",
   "mimetype": "text/x-python",
   "name": "python",
   "nbconvert_exporter": "python",
   "pygments_lexer": "ipython3",
   "version": "3.8.5"
  }
 },
 "nbformat": 4,
 "nbformat_minor": 4
}
