{
 "cells": [
  {
   "cell_type": "markdown",
   "metadata": {},
   "source": [
    "# $$\\textbf{Python Mini Challenge} $$ \n",
    "## $$\\text{PMC_11 - Gruppierter Mittelwert}$$\n",
    "### $$\\text{Py_Ing - SoSe21}$$\n",
    "\n",
    "<center>"
   ]
  },
  {
   "cell_type": "markdown",
   "metadata": {},
   "source": [
    "# Aufgabe:  \n",
    "**Schreiben Sie eine Funktion, die für eine übergebene Liste die Mittelwerte für Gruppen von jeweils fünf aufeinanderfolgenden Werten bildet und diese als Liste zurückgibt.**\n",
    "\n",
    "Beispiel:\n",
    "\n",
    "[1, 2, 3, 4, 5, 6, 7, 8, 9, 10, 11, 12, 13, 14, 15, 16, 17, 18, 19, 20]  \n",
    "-->  \n",
    "[3.0, 8.0, 13.0, 18.0]"
   ]
  },
  {
   "cell_type": "code",
   "execution_count": 1,
   "metadata": {},
   "outputs": [],
   "source": [
    "import numpy as np"
   ]
  },
  {
   "cell_type": "code",
   "execution_count": 2,
   "metadata": {},
   "outputs": [],
   "source": [
    "def gruppierterMittelwert(a,n=5):\n",
    "    \"\"\"\n",
    "    Args:\n",
    "        a: Liste, len(a)%5 = 0\n",
    "    Returns:\n",
    "        m: Liste von Mittelwerten von Gruppen von jeweils fünf aufeinanderfolgenden Werten in a\n",
    "    \"\"\"\n",
    "    m = []\n",
    "    for i in range(n,len(a)+1,n):\n",
    "        m.append(np.mean(a[i-n:i]))\n",
    "    return m"
   ]
  },
  {
   "cell_type": "code",
   "execution_count": 3,
   "metadata": {},
   "outputs": [
    {
     "data": {
      "text/plain": [
       "[3.0, 8.0, 13.0, 18.0]"
      ]
     },
     "execution_count": 3,
     "metadata": {},
     "output_type": "execute_result"
    }
   ],
   "source": [
    "# Test\n",
    "a = np.arange(1,21)\n",
    "m = gruppierterMittelwert(a)\n",
    "m"
   ]
  },
  {
   "cell_type": "code",
   "execution_count": null,
   "metadata": {},
   "outputs": [],
   "source": []
  }
 ],
 "metadata": {
  "kernelspec": {
   "display_name": "Python 3",
   "language": "python",
   "name": "python3"
  },
  "language_info": {
   "codemirror_mode": {
    "name": "ipython",
    "version": 3
   },
   "file_extension": ".py",
   "mimetype": "text/x-python",
   "name": "python",
   "nbconvert_exporter": "python",
   "pygments_lexer": "ipython3",
   "version": "3.8.5"
  }
 },
 "nbformat": 4,
 "nbformat_minor": 4
}
