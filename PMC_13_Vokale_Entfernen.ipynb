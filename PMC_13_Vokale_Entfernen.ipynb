{
 "cells": [
  {
   "cell_type": "markdown",
   "metadata": {},
   "source": [
    "# $$\\textbf{Python Mini Challenge} $$ \n",
    "## $$\\text{PMC_13 - Vokale Entfernen}$$\n",
    "### $$\\text{Py_Ing - SoSe21}$$\n",
    "\n",
    "<center>"
   ]
  },
  {
   "cell_type": "markdown",
   "metadata": {},
   "source": [
    "# Aufgabe:  \n",
    "**Schreiben Sie eine Funktion, die aus einem String mittels List Comprehension alle Vokale entfernt.**\n",
    "\n",
    "Beispiel:\n",
    "\n",
    "Aus \"Dieser Satz bleibt auch ohne Vokale unerwartet gut lesbar.\" wird \"Dsr Stz blbt ch hn Vkl nrwrtt gt lsbr.\""
   ]
  },
  {
   "cell_type": "code",
   "execution_count": 1,
   "metadata": {},
   "outputs": [],
   "source": [
    "def vokaleEntf(text):\n",
    "    \"\"\"\n",
    "    Args:\n",
    "        text: string\n",
    "    Returns:\n",
    "        kons: Liste von Konsonanten\n",
    "    \"\"\"\n",
    "    Vokale = [\"A\",\"E\",\"I\",\"O\",\"U\"]\n",
    "    kons = [t for t in text if t.capitalize() not in Vokale]\n",
    "    s = \"\"\n",
    "    return s.join(kons)"
   ]
  },
  {
   "cell_type": "code",
   "execution_count": 2,
   "metadata": {},
   "outputs": [
    {
     "name": "stdout",
     "output_type": "stream",
     "text": [
      "Dsr Stz blbt ch hn Vkl nrwrtt gt lsbr.\n"
     ]
    }
   ],
   "source": [
    "# Test\n",
    "text = \"Dieser Satz bleibt auch ohne Vokale unerwartet gut lesbar.\"\n",
    "t = vokaleEntf(text)\n",
    "print(t)"
   ]
  },
  {
   "cell_type": "code",
   "execution_count": null,
   "metadata": {},
   "outputs": [],
   "source": []
  }
 ],
 "metadata": {
  "kernelspec": {
   "display_name": "Python 3",
   "language": "python",
   "name": "python3"
  },
  "language_info": {
   "codemirror_mode": {
    "name": "ipython",
    "version": 3
   },
   "file_extension": ".py",
   "mimetype": "text/x-python",
   "name": "python",
   "nbconvert_exporter": "python",
   "pygments_lexer": "ipython3",
   "version": "3.8.5"
  }
 },
 "nbformat": 4,
 "nbformat_minor": 4
}
