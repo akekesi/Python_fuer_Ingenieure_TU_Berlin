{
 "cells": [
  {
   "cell_type": "markdown",
   "metadata": {},
   "source": [
    "# $$\\textbf{Python Mini Challenge} $$ \n",
    "## $$\\text{PMC_07 - Namenlaengenanpassung}$$\n",
    "### $$\\text{Py_Ing - SoSe21}$$\n",
    "\n",
    "<center>"
   ]
  },
  {
   "cell_type": "markdown",
   "metadata": {},
   "source": [
    "# Aufgabe:  \n",
    "**Schreiben Sie eine Funktion, die zwei Namen als Argumente akzeptiert, den kürzeren der beiden um soviele Leerzeichen ergänzt, dass beide gleich lang sind und dann die beiden gleich langen Strings zurückgibt!**\n",
    "\n",
    "Beispiel:\n",
    "\n",
    "name1 = \"AlanTuring\"  \n",
    "name2 = \"MargaretHamilton\"\n",
    "\n",
    "wird zu\n",
    "\n",
    "name1 = \"AlanTuring______\"  \n",
    "name2 = \"MargaretHamilton\""
   ]
  },
  {
   "cell_type": "code",
   "execution_count": 1,
   "metadata": {},
   "outputs": [],
   "source": [
    "def namenergaenzung(x,y):\n",
    "    \"\"\"\n",
    "    Return 2 Strings mit gleichen Laengen\n",
    "    Args:\n",
    "        x,y: 2 String, der kuerzere String wird mit Leerzeichen ergaenzt --> Laengen sind gleich\n",
    "    Retruns:\n",
    "        x,y: 2 Strings mit gleichen Laengen\n",
    "    \"\"\"\n",
    "    Lx = len(x)\n",
    "    Ly = len(y)\n",
    "    d = Lx-Ly\n",
    "    if d >= 0:\n",
    "        y += \" \"*d\n",
    "    else:\n",
    "        x += \" \"*abs(d)\n",
    "    return x,y"
   ]
  },
  {
   "cell_type": "code",
   "execution_count": 2,
   "metadata": {},
   "outputs": [
    {
     "name": "stdout",
     "output_type": "stream",
     "text": [
      "\"AlanTuring      \"\n",
      "\"MargaretHamilton\"\n",
      "\"\"\n",
      "\"\"\n",
      "\"a\"\n",
      "\" \"\n",
      "\" \"\n",
      "\"b\"\n",
      "\"_a_\"\n",
      "\"_b \"\n"
     ]
    }
   ],
   "source": [
    "# Test\n",
    "L = [[\"AlanTuring\",\"MargaretHamilton\"],\n",
    "    [\"\",\"\"],\n",
    "    [\"a\",\"\"],\n",
    "    [\"\",\"b\"],\n",
    "    [\"_a_\",\"_b\"]]\n",
    "for l in L:\n",
    "    x,y = namenergaenzung(l[0],l[1])\n",
    "    print(f'\"{x}\"\\n\"{y}\"')"
   ]
  },
  {
   "cell_type": "code",
   "execution_count": null,
   "metadata": {},
   "outputs": [],
   "source": []
  }
 ],
 "metadata": {
  "kernelspec": {
   "display_name": "Python 3",
   "language": "python",
   "name": "python3"
  },
  "language_info": {
   "codemirror_mode": {
    "name": "ipython",
    "version": 3
   },
   "file_extension": ".py",
   "mimetype": "text/x-python",
   "name": "python",
   "nbconvert_exporter": "python",
   "pygments_lexer": "ipython3",
   "version": "3.8.5"
  }
 },
 "nbformat": 4,
 "nbformat_minor": 4
}
