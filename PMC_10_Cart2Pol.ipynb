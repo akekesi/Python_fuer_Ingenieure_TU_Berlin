{
 "cells": [
  {
   "cell_type": "markdown",
   "metadata": {},
   "source": [
    "# $$\\textbf{Python Mini Challenge} $$ \n",
    "## $$\\text{PMC_10 - Cart2Pol}$$\n",
    "### $$\\text{Py_Ing - SoSe21}$$\n",
    "\n",
    "<center>"
   ]
  },
  {
   "cell_type": "markdown",
   "metadata": {},
   "source": [
    "# Aufgabe:  \n",
    "**Schreiben Sie eine Funktion, die ein Array mit den Dimensionen 2 x n als Liste von n Kartesische Koordinaten interpretiert und ein 2 x n Array mit den entsprechenden Polarkoordinaten (Betrag, Winkel) zurückgibt.**\n",
    "\n",
    "Beispiel:\n",
    "\n",
    "array([[1,0],[0,2],[0,-3],[-4,0]])  \n",
    "wird zu  \n",
    "array([[1,0],[2, 1.571],[3, -1.571],[4, 3.142]])"
   ]
  },
  {
   "cell_type": "code",
   "execution_count": 1,
   "metadata": {},
   "outputs": [],
   "source": [
    "import numpy as np"
   ]
  },
  {
   "cell_type": "code",
   "execution_count": 2,
   "metadata": {},
   "outputs": [],
   "source": [
    "def cart2pol(cart):\n",
    "    \"\"\"\n",
    "    Return Array von Polarkoordinaten <-- Array von Kartesischen Koordinaten\n",
    "    Args:\n",
    "        Array: 2xn Kartesische Koordinaten\n",
    "    Returns:\n",
    "        Array: 2xn Polarkoordinaten\n",
    "    \"\"\"\n",
    "    pol = []\n",
    "    for c in cart:\n",
    "        r = (c[0]**2+c[1]**2)**0.5\n",
    "        alpha = np.arctan2(c[1],c[0]) \n",
    "        pol.append([r,alpha]) \n",
    "    return pol"
   ]
  },
  {
   "cell_type": "code",
   "execution_count": 3,
   "metadata": {},
   "outputs": [
    {
     "data": {
      "text/plain": [
       "[[1.0, 0.0],\n",
       " [2.0, 1.5707963267948966],\n",
       " [3.0, -1.5707963267948966],\n",
       " [4.0, 3.141592653589793]]"
      ]
     },
     "execution_count": 3,
     "metadata": {},
     "output_type": "execute_result"
    }
   ],
   "source": [
    "# Test\n",
    "car = np.array([[1,0],[0,2],[0,-3],[-4,0]])\n",
    "pol = cart2pol(car)\n",
    "pol"
   ]
  },
  {
   "cell_type": "code",
   "execution_count": null,
   "metadata": {},
   "outputs": [],
   "source": []
  }
 ],
 "metadata": {
  "kernelspec": {
   "display_name": "Python 3",
   "language": "python",
   "name": "python3"
  },
  "language_info": {
   "codemirror_mode": {
    "name": "ipython",
    "version": 3
   },
   "file_extension": ".py",
   "mimetype": "text/x-python",
   "name": "python",
   "nbconvert_exporter": "python",
   "pygments_lexer": "ipython3",
   "version": "3.8.5"
  }
 },
 "nbformat": 4,
 "nbformat_minor": 4
}
