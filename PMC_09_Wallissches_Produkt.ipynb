{
 "cells": [
  {
   "cell_type": "markdown",
   "metadata": {},
   "source": [
    "# $$\\textbf{Python Mini Challenge} $$ \n",
    "## $$\\text{PMC_09 - Wallissches Produkt}$$\n",
    "### $$\\text{Py_Ing - SoSe21}$$\n",
    "\n",
    "<center>"
   ]
  },
  {
   "cell_type": "markdown",
   "metadata": {},
   "source": [
    "# Aufgabe:  \n",
    "**Aus Kapitel 2, UE: Nähern Sie die Kreiszahl \"pi\" iterativ mithilfe des Wallisschen Produkts an:**\n",
    "\n",
    "$$\\Large{\n",
    "\\pi = 2 \\prod_{i=1}^{\\infty} \\left( 1+\\frac{1}{4i^2-1} \\right)\n",
    "}$$\n",
    "<br>"
   ]
  },
  {
   "cell_type": "code",
   "execution_count": 1,
   "metadata": {},
   "outputs": [],
   "source": [
    "import math"
   ]
  },
  {
   "cell_type": "code",
   "execution_count": 2,
   "metadata": {},
   "outputs": [],
   "source": [
    "def wallis_prod(n):\n",
    "    \"\"\"\n",
    "    Return Wallissches Produkt\n",
    "    Args:\n",
    "        n: i=1,2,...n, n >= 1\n",
    "    Retruns:\n",
    "        Wallissches Produkt bis n\n",
    "    \"\"\"\n",
    "    w = 2\n",
    "    for i in range(1,n+1):\n",
    "        w *= 1+1/(4*i**2-1)\n",
    "    return w"
   ]
  },
  {
   "cell_type": "code",
   "execution_count": 3,
   "metadata": {},
   "outputs": [
    {
     "name": "stdout",
     "output_type": "stream",
     "text": [
      "n=    1: pi=2.6666666666666665\n",
      "n=    2: pi=2.844444444444444\n",
      "n=    3: pi=2.9257142857142853\n",
      "n=    5: pi=3.0021759545569062\n",
      "n=    8: pi=3.0505899960555105\n",
      "n=   10: pi=3.0677038066434985\n",
      "n=   20: pi=3.103516961539233\n",
      "n=   50: pi=3.126078900215411\n",
      "n=   78: pi=3.131603563620935\n",
      "n=  100: pi=3.133787490628162\n",
      "n=  785: pi=3.1405929423996777\n",
      "n= 1000: pi=3.140807746030402\n",
      "n= 7854: pi=3.141492661780818\n",
      "n=78540: pi=3.1415826536927987\n"
     ]
    }
   ],
   "source": [
    "# Test\n",
    "N = [1,2,3,5,8,10,20,50,78,100,785,1000,7854,78540]\n",
    "for n in N:\n",
    "    w = wallis_prod(n)\n",
    "    print(f'n={n:5.0f}: pi={w}')"
   ]
  },
  {
   "cell_type": "code",
   "execution_count": 4,
   "metadata": {},
   "outputs": [],
   "source": [
    "def wallis_prod(d):\n",
    "    \"\"\"\n",
    "    Return Wallissches Produkt\n",
    "    Args:\n",
    "        d: ganze Zahl >= 0, abs(pi-w) < 10^(-d)\n",
    "    Retruns:\n",
    "        w,n: Wallissches Produkt, Anzahl der Iterationen\n",
    "    \"\"\"\n",
    "    w = 2 # Anfangswert fuer Wallissches Produkt\n",
    "    n = 0 # Anzahl der Iterationen\n",
    "    while abs(math.pi-w) > 10**(-d):\n",
    "        n += 1\n",
    "        w *= 1+1/(4*n**2-1)\n",
    "    return w,n"
   ]
  },
  {
   "cell_type": "code",
   "execution_count": 5,
   "metadata": {},
   "outputs": [
    {
     "name": "stdout",
     "output_type": "stream",
     "text": [
      "d: 0, Iteration:      1, w=2.6666666666666665\n",
      "d: 1, Iteration:      8, w=3.0505899960555105\n",
      "d: 2, Iteration:     78, w=3.131603563620935\n",
      "d: 3, Iteration:    785, w=3.1405929423996777\n",
      "d: 4, Iteration:   7854, w=3.141492661780818\n",
      "d: 5, Iteration:  78540, w=3.1415826536927987\n",
      "d: 6, Iteration: 785398, w=3.1415916535904134\n"
     ]
    }
   ],
   "source": [
    "# Test\n",
    "for d in range(7):\n",
    "    w,n= wallis_prod(d)\n",
    "    print(f'd: {d}, Iteration: {n:6.0f}, w={w}')"
   ]
  },
  {
   "cell_type": "code",
   "execution_count": null,
   "metadata": {},
   "outputs": [],
   "source": []
  }
 ],
 "metadata": {
  "kernelspec": {
   "display_name": "Python 3",
   "language": "python",
   "name": "python3"
  },
  "language_info": {
   "codemirror_mode": {
    "name": "ipython",
    "version": 3
   },
   "file_extension": ".py",
   "mimetype": "text/x-python",
   "name": "python",
   "nbconvert_exporter": "python",
   "pygments_lexer": "ipython3",
   "version": "3.8.5"
  }
 },
 "nbformat": 4,
 "nbformat_minor": 4
}
