{
 "cells": [
  {
   "cell_type": "markdown",
   "metadata": {},
   "source": [
    "# $$\\textbf{Python Mini Challenge} $$ \n",
    "## $$\\text{PMC_03 - FizzBuzz}$$\n",
    "### $$\\text{Py_Ing - SoSe21}$$\n",
    "\n",
    "<center>"
   ]
  },
  {
   "cell_type": "markdown",
   "metadata": {},
   "source": [
    "# Aufgabe:  \n",
    "**Schreiben Sie eine Funktion, die für einen übergebenen Integer n größer null eine Liste mit allen natürlichen Zahlen kleiner gleich n ausgibt, wobei alle durch drei teilbaren Zahlen durch den String \"fizz\", alle durch fünf teilbaren durch den String \"buzz\" und alle sowohl durch drei, als auch durch fünf teilbaren durch den String \"fizzbuzz\" ersetzt werden!**\n",
    "\n",
    "Beispiel:\n",
    "\n",
    "fizzbuzz(16):\n",
    "\n",
    "[1,2,'fizz',4,'buzz','fizz',7,8,'fizz','buzz',11,'fizz',13,14,'fizzbuzz',16]\n",
    "\n",
    "Zusatzaufgaben:\n",
    "\n",
    "Implementieren Sie die Funktion mit nur zwei Fallunterscheidungen!\n",
    "\n",
    "Implementieren Sie die Funktion mit variablen zu übergebenden Teilern für fizz und buzz, aber Standardwerten drei und fünf, falls keine Parameter übergeben werden!\n",
    "\n",
    "Implementieren Sie die Funktion mit einer beliebigen Anzahl an Ersetzungsteilern! Überlegen Sie sich ein Schema zur generierung beliebig vieler Ersetzungswörter!"
   ]
  },
  {
   "cell_type": "code",
   "execution_count": 1,
   "metadata": {},
   "outputs": [],
   "source": [
    "def fizzbuzz1(x):\n",
    "    \"\"\"\n",
    "    Args:\n",
    "        poz. nat. Zahl\n",
    "    Returns:\n",
    "        Liste von Zahlen, die kleiner gleich als x.\n",
    "        Die durch 3 teilbare Zahlen sind durch fizz zu ersetzen.\n",
    "        Die durch 5 teilbare Zahlen sind durch buzz zu ersetzen.       \n",
    "    \"\"\"\n",
    "    L = []\n",
    "    for i in range(1,x+1):\n",
    "        if i%3 != 0 and i%5 != 5:\n",
    "            L.append(i)\n",
    "        elif i%3 == 0:\n",
    "            L.append('fizz')\n",
    "        elif i%5 == 0:\n",
    "            L.append('buzz')\n",
    "        else:\n",
    "            L.append('fizzbuzz')\n",
    "    return L"
   ]
  },
  {
   "cell_type": "code",
   "execution_count": 2,
   "metadata": {},
   "outputs": [
    {
     "data": {
      "text/plain": [
       "[1, 2, 'fizz', 4, 5, 'fizz', 7, 8, 'fizz', 10, 11, 'fizz', 13, 14, 'fizz', 16]"
      ]
     },
     "execution_count": 2,
     "metadata": {},
     "output_type": "execute_result"
    }
   ],
   "source": [
    "fizzbuzz1(16)"
   ]
  },
  {
   "cell_type": "code",
   "execution_count": 3,
   "metadata": {},
   "outputs": [],
   "source": [
    "def fizzbuzz2(x,D={3:'fizz',5:'buzz'}):\n",
    "    \"\"\"\n",
    "    Args:\n",
    "        x: poz. nat. Zahl\n",
    "        D: Dict von Teilern und dazugehoerigen Strings \n",
    "    Returns:\n",
    "        Liste von Zahlen, die kleiner gleich als x.\n",
    "        Die durch 3 teilbare Zahlen sind durch fizz zu ersetzen. (oder wie in Args gegeben)\n",
    "        Die durch 5 teilbare Zahlen sind durch buzz zu ersetzen. (oder wie in Args gegeben)\n",
    "    \"\"\"\n",
    "    L = [i for i in range(x+1)]\n",
    "    for d in D:\n",
    "        for i in range(d,x+1,d):\n",
    "            if type(L[i]) != int:\n",
    "                L[i] += str(D[d])\n",
    "            else:\n",
    "                L[i] = str(D[d])\n",
    "    \n",
    "    return L[1:]"
   ]
  },
  {
   "cell_type": "code",
   "execution_count": 4,
   "metadata": {},
   "outputs": [
    {
     "name": "stdout",
     "output_type": "stream",
     "text": [
      "[1, 2, 'fizz', 4, 'buzz', 'fizz', 7, 8, 'fizz', 'buzz', 11, 'fizz', 13, 14, 'fizzbuzz', 16]\n",
      "[1, 2, 'buzz', 4, 'fizz', 'buzz', 7, 8, 'buzz', 'fizz', 11, 'buzz', 13, 14, 'fizzbuzz', 16]\n",
      "[1, 'z', 'd', 'z', 'f', 'zd', 7, 'z', 'd', 'zf', 11, 'zd', 13, 'z', 'df', 'z']\n"
     ]
    }
   ],
   "source": [
    "print(fizzbuzz2(16))\n",
    "print(fizzbuzz2(16,{5:'fizz',3:'buzz'}))\n",
    "print(fizzbuzz2(16,{2:'z',3:'d',5:'f'}))"
   ]
  },
  {
   "cell_type": "code",
   "execution_count": null,
   "metadata": {},
   "outputs": [],
   "source": []
  }
 ],
 "metadata": {
  "kernelspec": {
   "display_name": "Python 3",
   "language": "python",
   "name": "python3"
  },
  "language_info": {
   "codemirror_mode": {
    "name": "ipython",
    "version": 3
   },
   "file_extension": ".py",
   "mimetype": "text/x-python",
   "name": "python",
   "nbconvert_exporter": "python",
   "pygments_lexer": "ipython3",
   "version": "3.8.5"
  }
 },
 "nbformat": 4,
 "nbformat_minor": 4
}
