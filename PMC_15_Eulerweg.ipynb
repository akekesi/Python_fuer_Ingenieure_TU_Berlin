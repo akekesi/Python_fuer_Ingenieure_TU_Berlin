{
 "cells": [
  {
   "cell_type": "markdown",
   "metadata": {},
   "source": [
    "# $$\\textbf{Python Mini Challenge} $$ \n",
    "## $$\\text{PMC_15 - Eulerweg}$$\n",
    "### $$\\text{Py_Ing - SoSe21}$$\n",
    "\n",
    "<center>"
   ]
  },
  {
   "cell_type": "markdown",
   "metadata": {},
   "source": [
    "# Aufgabe:  \n",
    "**Schreiben Sie eine Funktion, die für eine ihr übergebene Adjazenzmatrix bestimmt, ob der mit dieser repräsentierte Graph einen Eulerweg und/oder einen Eulerkreis enthält.**\n",
    "\n",
    "Beispiel:\n",
    "\n",
    "[[0, 1, 0, 1, 1], [1, 0, 1, 1, 1], [0, 1, 0, 1, 0], [1, 1, 1, 0, 1], [1, 1, 0, 1, 0]]\n",
    "\n",
    "enthält einen Eulerweg, aber keinen Eulerkreis."
   ]
  },
  {
   "cell_type": "code",
   "execution_count": 1,
   "metadata": {},
   "outputs": [],
   "source": [
    "import numpy as np"
   ]
  },
  {
   "cell_type": "code",
   "execution_count": 2,
   "metadata": {},
   "outputs": [],
   "source": [
    "def eulerWK(adj):\n",
    "    \"\"\"\n",
    "    Args:\n",
    "        adj: Adjezenzmatrix eines ungerichteten Graphs\n",
    "    Returns:\n",
    "        ew: Eulerweg\n",
    "        ek: Eulerkreis\n",
    "    \"\"\"\n",
    "    ew = \"Der Graph enthält keinen Eulerweg.\"\n",
    "    ek = \"Der Graph enthält keinen Eulerkreis.\"\n",
    "    s = 0\n",
    "    \n",
    "    for knoten in adj:\n",
    "        if np.sum(knoten)%2 != 0:\n",
    "            s +=1\n",
    "\n",
    "    # keine oder zwei Knoten haben ungeraden Grad --> Eulerweg\n",
    "    if s == 2 or s == 0:\n",
    "        ew = \"Der Graph enthält einen Eulerweg.\"\n",
    "    \n",
    "    # keine Knoten hat ungeraden Grad --> Eulerkreis\n",
    "    if s == 0:\n",
    "        ek = \"Der Graph enthält einen Eulerkreis.\"\n",
    "    return ew,ek"
   ]
  },
  {
   "cell_type": "code",
   "execution_count": 3,
   "metadata": {},
   "outputs": [
    {
     "data": {
      "text/plain": [
       "('Der Graph enthält einen Eulerweg.', 'Der Graph enthält keinen Eulerkreis.')"
      ]
     },
     "execution_count": 3,
     "metadata": {},
     "output_type": "execute_result"
    }
   ],
   "source": [
    "# Test\n",
    "adj = [[0, 1, 0, 1, 1], [1, 0, 1, 1, 1], [0, 1, 0, 1, 0], [1, 1, 1, 0, 1], [1, 1, 0, 1, 0]]\n",
    "ew,ek = eulerWK(adj)\n",
    "ew,ek"
   ]
  },
  {
   "cell_type": "code",
   "execution_count": 4,
   "metadata": {},
   "outputs": [
    {
     "data": {
      "text/plain": [
       "('Der Graph enthält keinen Eulerweg.', 'Der Graph enthält keinen Eulerkreis.')"
      ]
     },
     "execution_count": 4,
     "metadata": {},
     "output_type": "execute_result"
    }
   ],
   "source": [
    "# Test\n",
    "adj = [[0, 2, 0, 1], [2, 0, 2, 1], [0, 2, 0, 1,], [1, 1, 1, 0,]]\n",
    "ew,ek = eulerWK(adj)\n",
    "ew,ek"
   ]
  },
  {
   "cell_type": "code",
   "execution_count": 5,
   "metadata": {},
   "outputs": [
    {
     "data": {
      "text/plain": [
       "('Der Graph enthält einen Eulerweg.', 'Der Graph enthält einen Eulerkreis.')"
      ]
     },
     "execution_count": 5,
     "metadata": {},
     "output_type": "execute_result"
    }
   ],
   "source": [
    "# Test\n",
    "adj = [[0, 0, 1, 1], [0, 0, 1, 1], [1, 1, 0, 0,], [1, 1, 0, 0,]]\n",
    "ew,ek = eulerWK(adj)\n",
    "ew,ek"
   ]
  }
 ],
 "metadata": {
  "kernelspec": {
   "display_name": "Python 3",
   "language": "python",
   "name": "python3"
  },
  "language_info": {
   "codemirror_mode": {
    "name": "ipython",
    "version": 3
   },
   "file_extension": ".py",
   "mimetype": "text/x-python",
   "name": "python",
   "nbconvert_exporter": "python",
   "pygments_lexer": "ipython3",
   "version": "3.8.5"
  }
 },
 "nbformat": 4,
 "nbformat_minor": 4
}
