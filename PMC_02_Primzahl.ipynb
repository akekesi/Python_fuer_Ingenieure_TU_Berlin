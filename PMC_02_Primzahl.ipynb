{
 "cells": [
  {
   "cell_type": "markdown",
   "metadata": {},
   "source": [
    "# $$\\textbf{Python Mini Challenge} $$ \n",
    "## $$\\text{PMC_02 - Primzahl}$$\n",
    "### $$\\text{Py_Ing - SoSe21}$$\n",
    "\n",
    "<center>"
   ]
  },
  {
   "cell_type": "markdown",
   "metadata": {},
   "source": [
    "# Aufgabe:  \n",
    "**Schreiben Sie eine Funktion, die alle Primzahlen unterhalb einer übergebenen Zahl berechnet und als Liste zurückgibt.**"
   ]
  },
  {
   "cell_type": "code",
   "execution_count": 1,
   "metadata": {},
   "outputs": [],
   "source": [
    "import numpy as np"
   ]
  },
  {
   "cell_type": "code",
   "execution_count": 2,
   "metadata": {},
   "outputs": [],
   "source": [
    "def prim1(x):\n",
    "    \"\"\"\n",
    "    Return alle Primzahle unter x (untersuchen jede Zahl)\n",
    "    Args:\n",
    "        x: obere Grenze, ganze Zahl > 1\n",
    "    Retruns:\n",
    "        Liste von Zahlen (L[p1,p2,...]), die prim sind unterhalb von x.\n",
    "    \"\"\"\n",
    "    L = []\n",
    "    if x == 2:\n",
    "        L.append(2)\n",
    "    else:\n",
    "        L.append(2)\n",
    "        for i in range(3,x):\n",
    "            for j in range(2,i):\n",
    "                if i%j == 0:\n",
    "                    break\n",
    "                if j == i-1:\n",
    "                    L.append(i)\n",
    "    return L"
   ]
  },
  {
   "cell_type": "code",
   "execution_count": 3,
   "metadata": {},
   "outputs": [
    {
     "name": "stdout",
     "output_type": "stream",
     "text": [
      "Die Pimzahlen bis 125:\n",
      "[2, 3, 5, 7, 11, 13, 17, 19, 23, 29, 31, 37, 41, 43, 47, 53, 59, 61, 67, 71, 73, 79, 83, 89, 97, 101, 103, 107, 109, 113]\n"
     ]
    }
   ],
   "source": [
    "# Test\n",
    "x = 125\n",
    "L = prim1(x)\n",
    "print(f'Die Pimzahlen bis {x}:\\n{L}')"
   ]
  },
  {
   "cell_type": "code",
   "execution_count": 4,
   "metadata": {},
   "outputs": [],
   "source": [
    "def prim2(x):\n",
    "    \"\"\"\n",
    "    Return alle Primzahle unter x  (untersuchen jede Zahl bis int(x**0.5)+1)\n",
    "    Args:\n",
    "        x: obere Grenze, ganze Zahl > 1\n",
    "    Retruns:\n",
    "        Liste von Zahlen (L[p1,p2,...]), die prim sind unterhalb von x.\n",
    "    \"\"\"\n",
    "    L = []\n",
    "    if x == 2:\n",
    "        L.append(2)\n",
    "    else:\n",
    "        L.append(2)\n",
    "        for i in range(3,x):\n",
    "            m = int(i**0.5)+1\n",
    "            for j in range(2,m):\n",
    "                if i%j == 0:\n",
    "                    break\n",
    "                if j == m-1:\n",
    "                    L.append(i)\n",
    "    return L"
   ]
  },
  {
   "cell_type": "code",
   "execution_count": 5,
   "metadata": {},
   "outputs": [
    {
     "name": "stdout",
     "output_type": "stream",
     "text": [
      "Die Pimzahlen bis 125:\n",
      "[2, 5, 7, 11, 13, 17, 19, 23, 29, 31, 37, 41, 43, 47, 53, 59, 61, 67, 71, 73, 79, 83, 89, 97, 101, 103, 107, 109, 113]\n"
     ]
    }
   ],
   "source": [
    "# Test\n",
    "x = 125\n",
    "L = prim2(x)\n",
    "print(f'Die Pimzahlen bis {x}:\\n{L}')"
   ]
  },
  {
   "cell_type": "code",
   "execution_count": 6,
   "metadata": {},
   "outputs": [],
   "source": [
    "def prim3(x):\n",
    "    \"\"\"\n",
    "    Return alle Primzahle unter x, mit Sieb des Eratosthenes\n",
    "    Args:\n",
    "        x: obere Grenze, ganze Zahl > 1\n",
    "    Retruns:\n",
    "        Liste von Zahlen (L[p1,p2,...]), die prim sind unterhalb von x.\n",
    "    \"\"\"\n",
    "    if x == 2:\n",
    "        return [2]\n",
    "    else:\n",
    "        Z = np.array([i for i in range(x)])\n",
    "        mask = np.ones(Z.shape).astype(bool)        # mask = True-Matrix\n",
    "        mask[:2] = False                            # False für 0,1\n",
    "        for i in range(int(x**0.5)+1):              # Pos. von Zahlen: 0,1,2,3,...,int(x^0.5)+1\n",
    "            if mask[i] == True:\n",
    "                for j in range(i+Z[i],len(Z),Z[i]): # Pos. von naechsten Zahlen i+z,i+2z,i+3z,...\n",
    "                    mask[j] = False\n",
    "    return list(Z[mask])"
   ]
  },
  {
   "cell_type": "code",
   "execution_count": 7,
   "metadata": {},
   "outputs": [
    {
     "name": "stdout",
     "output_type": "stream",
     "text": [
      "Die Pimzahlen bis 125:\n",
      "[2, 3, 5, 7, 11, 13, 17, 19, 23, 29, 31, 37, 41, 43, 47, 53, 59, 61, 67, 71, 73, 79, 83, 89, 97, 101, 103, 107, 109, 113]\n"
     ]
    }
   ],
   "source": [
    "# Test\n",
    "x = 125\n",
    "L = prim3(x)\n",
    "print(f'Die Pimzahlen bis {x}:\\n{L}')"
   ]
  },
  {
   "cell_type": "code",
   "execution_count": null,
   "metadata": {},
   "outputs": [],
   "source": []
  }
 ],
 "metadata": {
  "kernelspec": {
   "display_name": "Python 3",
   "language": "python",
   "name": "python3"
  },
  "language_info": {
   "codemirror_mode": {
    "name": "ipython",
    "version": 3
   },
   "file_extension": ".py",
   "mimetype": "text/x-python",
   "name": "python",
   "nbconvert_exporter": "python",
   "pygments_lexer": "ipython3",
   "version": "3.8.5"
  }
 },
 "nbformat": 4,
 "nbformat_minor": 4
}
