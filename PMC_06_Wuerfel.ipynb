{
 "cells": [
  {
   "cell_type": "markdown",
   "metadata": {},
   "source": [
    "# $$\\textbf{Python Mini Challenge} $$ \n",
    "## $$\\text{PMC_06 - Wuerfel}$$\n",
    "### $$\\text{Py_Ing - SoSe21}$$\n",
    "\n",
    "<center>"
   ]
  },
  {
   "cell_type": "markdown",
   "metadata": {},
   "source": [
    "# Aufgabe:  \n",
    "**Schreiben Sie eine Funktion, die die Oberfläche und das Volumen eines Würfels mit der übergebenen Seitenlänge n berechnet und zurückgibt!**"
   ]
  },
  {
   "cell_type": "code",
   "execution_count": 1,
   "metadata": {},
   "outputs": [],
   "source": [
    "def wuerfel(n):\n",
    "    \"\"\"\n",
    "    Return Oberflaeche und Volumen eines Wuerfels mit Seitenlaenge n\n",
    "    Args:\n",
    "        n: Laenge >= 0\n",
    "    Retruns:\n",
    "        A, V: Oberflaeche und Volumen eines Wuerfels  mit Seitenlaenge n\n",
    "    \"\"\"\n",
    "    return 6*n**2,n**3"
   ]
  },
  {
   "cell_type": "code",
   "execution_count": 2,
   "metadata": {},
   "outputs": [
    {
     "name": "stdout",
     "output_type": "stream",
     "text": [
      "n=0:\tA=0,\t V=0\n",
      "n=1:\tA=6,\t V=1\n",
      "n=2:\tA=24,\t V=8\n",
      "n=3:\tA=54,\t V=27\n",
      "n=5.5:\tA=181.5,\t V=166.375\n",
      "n=13:\tA=1014,\t V=2197\n"
     ]
    }
   ],
   "source": [
    "# Test\n",
    "N = [0,1,2,3,5.5,13]\n",
    "for n in N:\n",
    "    A,V = wuerfel(n)\n",
    "    print(f'n={n}:\\tA={A},\\t V={V}')"
   ]
  },
  {
   "cell_type": "code",
   "execution_count": null,
   "metadata": {},
   "outputs": [],
   "source": []
  }
 ],
 "metadata": {
  "kernelspec": {
   "display_name": "Python 3",
   "language": "python",
   "name": "python3"
  },
  "language_info": {
   "codemirror_mode": {
    "name": "ipython",
    "version": 3
   },
   "file_extension": ".py",
   "mimetype": "text/x-python",
   "name": "python",
   "nbconvert_exporter": "python",
   "pygments_lexer": "ipython3",
   "version": "3.8.5"
  }
 },
 "nbformat": 4,
 "nbformat_minor": 4
}
