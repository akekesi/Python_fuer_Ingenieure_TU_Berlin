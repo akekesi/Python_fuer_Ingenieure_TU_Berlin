{
 "cells": [
  {
   "cell_type": "markdown",
   "metadata": {},
   "source": [
    "# $$\\textbf{Python Mini Challenge} $$ \n",
    "## $$\\text{PMC_05 - Leitpfostenanzahl}$$\n",
    "### $$\\text{Py_Ing - SoSe21}$$\n",
    "\n",
    "<center>"
   ]
  },
  {
   "cell_type": "markdown",
   "metadata": {},
   "source": [
    "# Aufgabe:  \n",
    "**Auf einer Autobahn soll alle 50 Meter ein Leitpfosten platziert werden, der erste bei 0 m. Schreiben Sie eine Funktion, die berechnet, wieviele Leitpfosten für einen Autobahnabschnitt einer gegebenen Länge benötigen werden.**"
   ]
  },
  {
   "cell_type": "code",
   "execution_count": 1,
   "metadata": {},
   "outputs": [],
   "source": [
    "def leitpfostenanzahl(laenge):\n",
    "    \"\"\"\n",
    "    Return Leitpfostenanzahl\n",
    "    Args:\n",
    "        laenge: Laenge >= 0\n",
    "    Retruns:\n",
    "        Leitpfostenanzahl zwischen 0 und länge.\n",
    "    \"\"\"\n",
    "    return laenge//50+1"
   ]
  },
  {
   "cell_type": "code",
   "execution_count": 2,
   "metadata": {},
   "outputs": [
    {
     "name": "stdout",
     "output_type": "stream",
     "text": [
      "      0 =      1\n",
      "      1 =      1\n",
      "     10 =      1\n",
      "     49 =      1\n",
      "     50 =      2\n",
      "     51 =      2\n",
      "    151 =      4\n",
      "    499 =     10\n",
      "    500 =     11\n",
      "    501 =     11\n",
      "    555 =     12\n",
      " 999999 =  20000\n",
      "1000000 =  20001\n",
      "1000050 =  20002\n"
     ]
    }
   ],
   "source": [
    "# Test\n",
    "L = [0,1,10,49,50,51,151,499,500,501,555,999_999,1_000_000,1_000_050]\n",
    "for l in L:\n",
    "    print(f'{l:7.0f} = {leitpfostenanzahl(l):6.0f}')"
   ]
  },
  {
   "cell_type": "code",
   "execution_count": null,
   "metadata": {},
   "outputs": [],
   "source": []
  }
 ],
 "metadata": {
  "kernelspec": {
   "display_name": "Python 3",
   "language": "python",
   "name": "python3"
  },
  "language_info": {
   "codemirror_mode": {
    "name": "ipython",
    "version": 3
   },
   "file_extension": ".py",
   "mimetype": "text/x-python",
   "name": "python",
   "nbconvert_exporter": "python",
   "pygments_lexer": "ipython3",
   "version": "3.8.5"
  }
 },
 "nbformat": 4,
 "nbformat_minor": 4
}
